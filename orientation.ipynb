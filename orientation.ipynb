{
 "cells": [
  {
   "cell_type": "markdown",
   "metadata": {},
   "source": [
    "# ===============================================================================\n",
    "# Orientation\n",
    "# ==============================================================================="
   ]
  },
  {
   "cell_type": "markdown",
   "metadata": {},
   "source": [
    "이 문서는 [faith6](https://faith6.me) 에 의해 작성되었으며, 모든 내용은 [CC BY 4.0 라이선스](https://creativecommons.org/licenses/by/4.0/)(Copyright notation)하에 교육용으로 자유롭게 사용 및 수정이 가능합니다. 라이선스에 대한 자세한 내용은 링크를 참조하세요.\n"
   ]
  },
  {
   "cell_type": "markdown",
   "metadata": {},
   "source": [
    "CSV,\n",
    "XML,\n",
    "JSON,\n",
    "API, API키 인증,\n",
    "HTTP 프로토콜, REST API,\n",
    "HTTP 요청메서드(GET, POST)\n",
    "\n",
    "- 사무자동화, 크롤링, 스크립팅\n",
    "- 웹개발\n",
    "- 데이터분석, 시각화"
   ]
  },
  {
   "cell_type": "code",
   "execution_count": null,
   "metadata": {},
   "outputs": [],
   "source": []
  },
  {
   "cell_type": "markdown",
   "metadata": {},
   "source": []
  }
 ],
 "metadata": {
  "language_info": {
   "name": "python"
  }
 },
 "nbformat": 4,
 "nbformat_minor": 2
}
