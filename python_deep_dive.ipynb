{
 "cells": [
  {
   "cell_type": "markdown",
   "metadata": {},
   "source": [
    "# ===============================================================================\n",
    "# Python Deep Dive v0.2.1\n",
    "# ==============================================================================="
   ]
  },
  {
   "cell_type": "markdown",
   "metadata": {},
   "source": [
    "이 문서는 [faith6](https://faith6.me) 에 의해 작성되었으며, 모든 내용은 [CC BY 4.0 라이선스](https://creativecommons.org/licenses/by/4.0/)(Copyright notation)하에 교육용으로 자유롭게 사용 및 수정이 가능합니다. 라이선스에 대한 자세한 내용은 링크를 참조하세요.\n"
   ]
  },
  {
   "cell_type": "markdown",
   "metadata": {},
   "source": [
    "## 변수와 자료형\n",
    "- 변수는 데이터를 저장하는 메모리 공간을 가리키는 이름으로, 데이터를 쉽게 참조하고 조작할 수 있게 해준다.\n",
    "- 파이썬에서는 변수를 선언할 때 자료형을 명시하지 않아도 되며, 할당되는 값에 따라 자료형이 자동으로 결정된다.\n",
    "- 변수 이름은 알파벳, 숫자, 밑줄(_)로 구성되며, 첫 글자는 알파벳이나 밑줄이어야 한다.\n",
    "- 등호(=)를 사용하여 변수에 값을 할당할 수 있다.\n",
    "\n",
    "### 주요 자료형\n",
    "1. 숫자형(Numeric Type)\n",
    "  - 정수(Integer): 양의 정수, 0, 음의 정수를 표현하는 자료형\n",
    "  - 실수(Float): 소수점이 포함된 숫자를 표현하는 자료형"
   ]
  },
  {
   "cell_type": "code",
   "execution_count": null,
   "metadata": {},
   "outputs": [],
   "source": [
    "num_int = 42       # 정수형 변수\n",
    "num_float = 3.14   # 실수형 변수"
   ]
  },
  {
   "cell_type": "markdown",
   "metadata": {},
   "source": [
    "2. 문자열(String)\n",
    "  - 문자, 단어 등으로 구성된 문자들의 집합을 표현하는 자료형\n",
    "  - 작은따옴표(' ') 또는 큰따옴표(\" \")로 둘러싸인 문자열로 정의"
   ]
  },
  {
   "cell_type": "code",
   "execution_count": null,
   "metadata": {},
   "outputs": [],
   "source": [
    "name = \"Alice\"              # 문자열 변수\n",
    "message = 'Hello, World!'   # 작은따옴표로 둘러싸인 문자열"
   ]
  },
  {
   "cell_type": "markdown",
   "metadata": {},
   "source": [
    "3. 불린형(Boolean)\n",
    "  - True(참) 또는 False(거짓)의 두 가지 값 중 하나를 가지는 자료형\n",
    "  - 조건문이나 반복문에서 자주 사용됨"
   ]
  },
  {
   "cell_type": "code",
   "execution_count": null,
   "metadata": {},
   "outputs": [],
   "source": [
    "is_student = True    # 불린형 변수 (참)\n",
    "is_employed = False  # 불린형 변수 (거짓)"
   ]
  },
  {
   "cell_type": "markdown",
   "metadata": {},
   "source": [
    "### 변수 활용 예시"
   ]
  },
  {
   "cell_type": "code",
   "execution_count": null,
   "metadata": {},
   "outputs": [],
   "source": [
    "x = 10\n",
    "y = 5\n",
    "result = x + y\n",
    "print(result)  # 출력 결과: 15\n",
    "\n",
    "name = \"John\"\n",
    "age = 25\n",
    "print(\"My name is\", name, \"and I am\", age, \"years old.\")\n",
    "# 출력 결과: My name is John and I am 25 years old.\n",
    "\n",
    "is_raining = True\n",
    "if is_raining:\n",
    "   print(\"Remember to bring an umbrella!\")\n",
    "else:\n",
    "   print(\"Enjoy the sunny day!\")\n",
    "# 출력 결과: Remember to bring an umbrella!"
   ]
  },
  {
   "cell_type": "markdown",
   "metadata": {},
   "source": [
    "## 연산자\n",
    "- 프로그래밍에서 연산자는 피연산자에 대해 특정한 작업을 수행하는데 사용되는 기호이다.\n",
    "- 파이썬에서는 다양한 종류의 연산자를 제공한다.\n",
    "\n",
    "### 산술 연산자\n",
    "- 산술 연산자는 숫자 값에 대한 일반적인 수학 연산을 수행한다.\n",
    "- 더하기(`+`), 빼기(`-`), 곱하기(`*`), 나누기(`/`), 나머지(`%`), 몫(`//`), 거듭제곱(`**`) 등이 있다."
   ]
  },
  {
   "cell_type": "code",
   "execution_count": null,
   "metadata": {},
   "outputs": [],
   "source": [
    "a = 10\n",
    "b = 3\n",
    "print(a + b)  # 13\n",
    "print(a - b)  # 7\n",
    "print(a * b)  # 30\n",
    "print(a / b)  # 3.3333333333333335\n",
    "print(a % b)  # 1\n",
    "print(a // b) # 3\n",
    "print(a ** b) # 1000"
   ]
  },
  {
   "cell_type": "markdown",
   "metadata": {},
   "source": [
    "### 비교 연산자\n",
    "- 비교 연산자는 두 값을 비교하고 그 결과를 불린(Boolean) 값으로 반환한다.\n",
    "- 같음(`==`), 같지 않음(`!=`), 크다(`>`), 작다(`<`), 크거나 같다(`>=`), 작거나 같다(`<=`) 등이 있다."
   ]
  },
  {
   "cell_type": "code",
   "execution_count": null,
   "metadata": {},
   "outputs": [],
   "source": [
    "x = 5\n",
    "y = 3\n",
    "print(x == y) # False\n",
    "print(x != y) # True\n",
    "print(x > y)  # True\n",
    "print(x < y)  # False\n",
    "print(x >= y) # True\n",
    "print(x <= y) # False"
   ]
  },
  {
   "cell_type": "markdown",
   "metadata": {},
   "source": [
    "### 논리 연산자\n",
    "- 논리 연산자는 불린 값에 대한 논리 연산을 수행한다.\n",
    "- 논리 AND(`and`), 논리 OR(`or`), 논리 NOT(`not`) 등이 있다."
   ]
  },
  {
   "cell_type": "code",
   "execution_count": null,
   "metadata": {},
   "outputs": [],
   "source": [
    "p = True\n",
    "q = False\n",
    "print(p and q) # False\n",
    "print(p or q)  # True\n",
    "print(not p)   # False"
   ]
  },
  {
   "cell_type": "markdown",
   "metadata": {},
   "source": [
    "### 할당 연산자\n",
    "- 할당 연산자는 변수에 값을 할당하는데 사용된다.\n",
    "- 등호(`=`)를 사용하여 값을 할당하고, `+=`, `-=`, `*=`, `/=` 등의 복합 할당 연산자도 있다."
   ]
  },
  {
   "cell_type": "code",
   "execution_count": null,
   "metadata": {},
   "outputs": [],
   "source": [
    "x = 5\n",
    "x += 3 # x = x + 3\n",
    "print(x) # 8\n",
    "\n",
    "y = 10\n",
    "y -= 2 # y = y - 2\n",
    "print(y) # 8\n",
    "\n",
    "z = 3\n",
    "z *= 4 # z = z * 4\n",
    "print(z) # 12"
   ]
  },
  {
   "cell_type": "markdown",
   "metadata": {},
   "source": [
    "## 문자열 다루기\n",
    "- 파이썬에서 문자열은 시퀀스 자료형으로 분류되며, 다양한 연산과 메서드를 통해 문자열을 다룰 수 있다.\n",
    "- 문자열은 인덱싱, 슬라이싱, 포매팅 등의 기능을 제공한다.\n",
    "\n",
    "### 인덱싱(Indexing)\n",
    "- 인덱싱은 문자열에서 특정 위치의 문자에 접근하는 방법이다.\n",
    "- 문자열의 각 문자는 0부터 시작하는 인덱스를 가지며, 대괄호([])를 사용하여 접근할 수 있다."
   ]
  },
  {
   "cell_type": "code",
   "execution_count": null,
   "metadata": {},
   "outputs": [],
   "source": [
    "str1 = \"Hello\"\n",
    "print(str1[0])  # 'H'\n",
    "print(str1[1])  # 'e'\n",
    "print(str1[-1]) # 'o' (마지막 문자)"
   ]
  },
  {
   "cell_type": "markdown",
   "metadata": {},
   "source": [
    "### 슬라이싱(Slicing)\n",
    "- 슬라이싱은 문자열의 일부분을 추출하는 방법이다.\n",
    "- 대괄호([]) 내에 시작 인덱스와 끝 인덱스를 콜론(:)으로 구분하여 지정한다.\n",
    "- 끝 인덱스로 지정된 위치의 문자는 포함되지 않는다."
   ]
  },
  {
   "cell_type": "code",
   "execution_count": null,
   "metadata": {},
   "outputs": [],
   "source": [
    "str2 = \"Hello, World!\"\n",
    "print(str2[0:5])  # 'Hello'\n",
    "print(str2[7:])   # 'World!'\n",
    "print(str2[:5])   # 'Hello'\n",
    "print(str2[:-1])  # 'Hello, World'"
   ]
  },
  {
   "cell_type": "markdown",
   "metadata": {},
   "source": [
    "### 문자열 포매팅(String Formatting)\n",
    "- 문자열 포매팅은 문자열 내에 변수의 값을 삽입하는 방법이다.\n",
    "- f-strings (f\"...\"), format() 메서드, % 연산자 등을 사용할 수 있다."
   ]
  },
  {
   "cell_type": "code",
   "execution_count": null,
   "metadata": {},
   "outputs": [],
   "source": [
    "name = \"Alice\"\n",
    "age = 25\n",
    "print(f\"My name is {name} and I'm {age} years old.\")\n",
    "# 출력 결과: My name is Alice and I'm 25 years old.\n",
    "\n",
    "print(\"My name is {} and I'm {} years old.\".format(name, age))\n",
    "# 출력 결과: My name is Alice and I'm 25 years old.\n",
    "\n",
    "print(\"My name is %s and I'm %d years old.\" % (name, age))\n",
    "# 출력 결과: My name is Alice and I'm 25 years old."
   ]
  },
  {
   "cell_type": "markdown",
   "metadata": {},
   "source": [
    "### 문자열 메서드(String Methods)\n",
    "- 파이썬은 문자열을 다루기 위한 다양한 내장 메서드를 제공한다.\n",
    "- 몇 가지 유용한 문자열 메서드는 다음과 같다."
   ]
  },
  {
   "cell_type": "code",
   "execution_count": null,
   "metadata": {},
   "outputs": [],
   "source": [
    "str3 = \"hello, world!\"\n",
    "print(str3.capitalize())  # 'Hello, world!' (첫 글자 대문자)\n",
    "print(str3.upper())       # 'HELLO, WORLD!' (모두 대문자)\n",
    "print(str3.lower())       # 'hello, world!' (모두 소문자)\n",
    "print(str3.title())       # 'Hello, World!' (각 단어의 첫 글자 대문자)\n",
    "print(str3.count('o'))    # 2 ('o'의 개수)\n",
    "print(str3.find('world')) # 7 ('world'의 시작 인덱스)\n",
    "print(str3.replace('world', 'python')) # 'hello, python!' ('world'를 'python'으로 대체)"
   ]
  },
  {
   "cell_type": "markdown",
   "metadata": {},
   "source": []
  },
  {
   "cell_type": "markdown",
   "metadata": {},
   "source": [
    "## 주석\n",
    "- 주석은 코드의 동작과는 무관하지만 코드를 읽는 사람을 위해 코드에 설명을 추가하는 것이다.\n",
    "- 파이썬에서는 한 줄 주석과 여러 줄 주석을 사용할 수 있다.\n",
    "- 한 줄 주석은 `#`으로 시작하고, 여러 줄 주석은 `\"\"\"` 또는 `'''`으로 감싼다.\n",
    "\n",
    "### 한 줄 주석(Inline Comment)\n",
    "- 한 줄 주석은 `#` 기호를 사용하여 작성한다.\n",
    "- 코드 뒤에 설명을 추가하거나, 코드를 일시적으로 비활성화할 때 사용한다."
   ]
  },
  {
   "cell_type": "code",
   "execution_count": null,
   "metadata": {},
   "outputs": [],
   "source": [
    "x = 10  # 변수 x에 10을 할당\n",
    "# print(x)  # 이 줄은 실행되지 않음"
   ]
  },
  {
   "cell_type": "markdown",
   "metadata": {},
   "source": [
    "### 여러 줄 주석(Multi-line Comment)\n",
    "- 여러 줄 주석은 `\"\"\"` 또는 `'''`으로 감싸서 작성한다.\n",
    "- 함수나 클래스에 대한 설명(docstring)을 작성할 때 주로 사용한다."
   ]
  },
  {
   "cell_type": "code",
   "execution_count": null,
   "metadata": {},
   "outputs": [],
   "source": [
    "\"\"\"\n",
    "이 함수는 두 수를 더하는 함수입니다.\n",
    "매개변수:\n",
    "   a (int): 첫 번째 숫자\n",
    "   b (int): 두 번째 숫자\n",
    "반환값:\n",
    "   int: 두 수의 합\n",
    "\"\"\"\n",
    "\n",
    "def add(a,b):\n",
    "    return a + b"
   ]
  },
  {
   "cell_type": "markdown",
   "metadata": {},
   "source": [
    "# 자료구조와 제어문\n",
    "## 리스트와 튜플\n",
    "- 리스트와 튜플은 여러 개의 값을 저장할 수 있는 자료구조이다.\n",
    "- 리스트는 대괄호(`[]`)로 둘러싸고, 튜플은 소괄호(`()`)로 둘러싼다.\n",
    "- 리스트는 가변(mutable)하여 요소를 추가, 삭제, 수정할 수 있지만, 튜플은 불변(immutable)하여 한 번 생성되면 변경할 수 없다.\n",
    "\n",
    "### 리스트(List)\n",
    "- 리스트는 순서가 있는 값들의 집합이다.\n",
    "- 다양한 타입의 값을 함께 저장할 수 있다.\n",
    "- 인덱싱과 슬라이싱을 사용하여 리스트의 요소에 접근할 수 있다."
   ]
  },
  {
   "cell_type": "code",
   "execution_count": null,
   "metadata": {},
   "outputs": [],
   "source": [
    "fruits = [\"apple\", \"banana\", \"orange\"]\n",
    "print(fruits[0])  # \"apple\"\n",
    "print(fruits[1:])  # [\"banana\", \"orange\"]\n",
    "\n",
    "fruits.append(\"grape\")  # 리스트 끝에 \"grape\" 추가\n",
    "fruits.insert(1, \"kiwi\")  # 인덱스 1에 \"kiwi\" 삽입\n",
    "fruits.remove(\"banana\")  # \"banana\" 제거\n",
    "print(fruits)  # [\"apple\", \"kiwi\", \"orange\", \"grape\"]"
   ]
  },
  {
   "cell_type": "markdown",
   "metadata": {},
   "source": [
    "### 튜플(Tuple)\n",
    "- 튜플은 리스트와 유사하지만, 값을 변경할 수 없는 불변(immutable) 자료형이다.\n",
    "- 소괄호(`()`)로 둘러싸거나, 쉼표(`,`)로 구분된 값들의 나열로 생성할 수 있다.\n",
    "- 튜플은 주로 함수의 반환값이나 상수 값을 저장하는 데 사용된다."
   ]
  },
  {
   "cell_type": "code",
   "execution_count": null,
   "metadata": {},
   "outputs": [],
   "source": [
    "point = (3, 4)\n",
    "print(point[0])  # 3\n",
    "print(point[1])  # 4\n",
    "\n",
    "x, y = point  # 튜플 언패킹(unpacking)\n",
    "print(x)  # 3\n",
    "print(y)  # 4"
   ]
  },
  {
   "cell_type": "markdown",
   "metadata": {},
   "source": [
    "### 리스트와 튜플의 활용\n",
    "- 리스트와 튜플은 다양한 상황에서 활용될 수 있다.\n",
    "- 예를 들어, 학생들의 성적을 리스트로 관리하거나, 좌표 값을 튜플로 표현할 수 있다."
   ]
  },
  {
   "cell_type": "code",
   "execution_count": null,
   "metadata": {},
   "outputs": [],
   "source": [
    "scores = [85, 92, 78, 90, 88]\n",
    "total = sum(scores)\n",
    "average = total / len(scores)\n",
    "print(f\"총점: {total}, 평균: {average}\")\n",
    "\n",
    "# 출력 결과: 총점: 433, 평균: 86.6\n",
    "\n",
    "coordinates = [(1, 2), (3, 4), (5, 6)]\n",
    "for x, y in coordinates:\n",
    "   print(f\"({x}, {y})\")\n",
    "\n",
    "# 출력 결과:\n",
    "# (1, 2)\n",
    "# (3, 4)\n",
    "# (5, 6)"
   ]
  },
  {
   "cell_type": "markdown",
   "metadata": {},
   "source": [
    "## 딕셔너리와 집합\n",
    "- 딕셔너리와 집합은 파이썬에서 제공하는 자료구조로, 데이터를 효율적으로 저장하고 검색할 수 있다.\n",
    "- 딕셔너리는 키(key)와 값(value)의 쌍으로 이루어진 자료구조이고, 집합은 중복을 허용하지 않는 값들의 모음이다.\n",
    "\n",
    "### 딕셔너리(Dictionary)\n",
    "- 딕셔너리는 중괄호(`{}`)를 사용하여 생성하며, 키와 값의 쌍을 콜론(`:`)으로 구분한다.\n",
    "- 키는 불변(immutable) 타입이어야 하며, 값은 어떤 타입도 가능하다.\n",
    "- 딕셔너리의 값은 키를 통해 접근할 수 있다."
   ]
  },
  {
   "cell_type": "code",
   "execution_count": null,
   "metadata": {},
   "outputs": [],
   "source": [
    "person = {\"name\": \"John\", \"age\": 25, \"city\": \"New York\"}\n",
    "print(person[\"name\"])  # \"John\"\n",
    "print(person[\"age\"])  # 25\n",
    "\n",
    "person[\"occupation\"] = \"Engineer\"  # 새로운 키-값 쌍 추가\n",
    "person[\"age\"] = 26  # 값 업데이트\n",
    "print(person)  # {\"name\": \"John\", \"age\": 26, \"city\": \"New York\", \"occupation\": \"Engineer\"}"
   ]
  },
  {
   "cell_type": "markdown",
   "metadata": {},
   "source": [
    "### 집합(Set)\n",
    "- 집합은 중괄호(`{}`)를 사용하여 생성하며, 순서가 없고 중복된 값을 허용하지 않는다.\n",
    "- 집합은 주로 멤버십 테스트(membership test)나 중복 제거 등의 용도로 사용된다."
   ]
  },
  {
   "cell_type": "code",
   "execution_count": null,
   "metadata": {},
   "outputs": [],
   "source": [
    "fruits = {\"apple\", \"banana\", \"orange\", \"apple\"}\n",
    "print(fruits)  # {\"apple\", \"banana\", \"orange\"}\n",
    "\n",
    "\"banana\" in fruits  # True\n",
    "\"grape\" in fruits  # False\n",
    "\n",
    "numbers = {1, 2, 3, 4, 5}\n",
    "even_numbers = {2, 4, 6, 8, 10}\n",
    "union_set = numbers | even_numbers  # 합집합\n",
    "intersection_set = numbers & even_numbers  # 교집합\n",
    "difference_set = numbers - even_numbers  # 차집합\n",
    "print(union_set)  # {1, 2, 3, 4, 5, 6, 8, 10}\n",
    "print(intersection_set)  # {2, 4}\n",
    "print(difference_set)  # {1, 3, 5}"
   ]
  },
  {
   "cell_type": "markdown",
   "metadata": {},
   "source": [
    "### 딕셔너리와 집합의 활용\n",
    "- 딕셔너리는 키-값 쌍을 효율적으로 관리할 때 유용하다. 예를 들어, 학생 정보를 저장하고 검색할 때 사용할 수 있다.\n",
    "- 집합은 중복을 제거하거나 두 집합 간의 연산(합집합, 교집합, 차집합 등)을 수행할 때 효과적이다."
   ]
  },
  {
   "cell_type": "code",
   "execution_count": null,
   "metadata": {},
   "outputs": [],
   "source": [
    "students = {\n",
    "   \"Alice\": {\"age\": 20, \"major\": \"Computer Science\"},\n",
    "   \"Bob\": {\"age\": 22, \"major\": \"Mathematics\"},\n",
    "   \"Charlie\": {\"age\": 21, \"major\": \"Business\"}\n",
    "}\n",
    "\n",
    "print(students[\"Alice\"][\"major\"])  # \"Computer Science\"\n",
    "\n",
    "unique_numbers = list(set([1, 2, 2, 3, 3, 3, 4, 4, 4, 4]))\n",
    "print(unique_numbers)  # [1, 2, 3, 4]"
   ]
  },
  {
   "cell_type": "markdown",
   "metadata": {},
   "source": [
    "## 조건문과 반복문\n",
    "- 조건문과 반복문은 프로그램의 흐름을 제어하는 핵심적인 구문이다.\n",
    "- 조건문은 특정 조건에 따라 코드 블록을 실행할지 결정하고, 반복문은 특정 조건이 만족되는 동안 코드 블록을 반복 실행한다.\n",
    "\n",
    "### 조건문(Conditional Statements)\n",
    "- 조건문은 `if`, `elif`, `else` 키워드를 사용하여 작성한다.\n",
    "- 각 조건은 콜론(`:`)으로 끝나며, 해당 조건이 참(`True`)인 경우 들여쓰기 된 코드 블록이 실행된다.\n",
    "- 여러 개의 조건을 검사할 때는 `elif`를 사용하고, 모든 조건이 거짓(`False`)인 경우 `else` 블록이 실행된다."
   ]
  },
  {
   "cell_type": "code",
   "execution_count": null,
   "metadata": {},
   "outputs": [],
   "source": [
    "x = 10\n",
    "if x > 0:\n",
    "   print(\"x is positive\")\n",
    "elif x < 0:\n",
    "   print(\"x is negative\")\n",
    "else:\n",
    "   print(\"x is zero\")\n",
    "\n",
    "# 출력 결과: x is positive"
   ]
  },
  {
   "cell_type": "markdown",
   "metadata": {},
   "source": [
    "### 반복문(Loop Statements)\n",
    "- 반복문은 `for`와 `while` 두 가지 종류가 있다.\n",
    "- `for` 반복문은 시퀀스(리스트, 튜플, 문자열 등)나 이터러블 객체의 요소를 순회할 때 사용한다.\n",
    "- `while` 반복문은 특정 조건이 참(`True`)인 동안 코드 블록을 반복 실행한다."
   ]
  },
  {
   "cell_type": "code",
   "execution_count": null,
   "metadata": {},
   "outputs": [],
   "source": [
    "# for 반복문\n",
    "fruits = [\"apple\", \"banana\", \"orange\"]\n",
    "for fruit in fruits:\n",
    "   print(fruit)\n",
    "\n",
    "\n",
    "# while 반복문\n",
    "count = 0\n",
    "while count < 5:\n",
    "   print(count)\n",
    "   count += 1\n",
    "   # count = count + 1"
   ]
  },
  {
   "cell_type": "markdown",
   "metadata": {},
   "source": [
    "### 반복문 제어\n",
    "- 반복문 내부에서 `break`, `continue`, `pass` 키워드를 사용하여 반복문의 흐름을 제어할 수 있다.\n",
    "- `break`는 반복문을 즉시 종료하고, `continue`는 현재 반복을 건너뛰고 다음 반복으로 넘어간다.\n",
    "- `pass`는 아무 작업도 수행하지 않고 반복문을 계속 진행한다."
   ]
  },
  {
   "cell_type": "code",
   "execution_count": null,
   "metadata": {},
   "outputs": [],
   "source": [
    "numbers = [1, 2, 3, 4, 5]\n",
    "for num in numbers:\n",
    "   if num == 3:\n",
    "       break\n",
    "   print(num)\n",
    "\n",
    "for num in numbers:\n",
    "   if num % 2 == 0:\n",
    "       continue\n",
    "   print(num)"
   ]
  },
  {
   "cell_type": "markdown",
   "metadata": {},
   "source": [
    "## 컴프리헨션(Comprehension)\n",
    "- 컴프리헨션은 파이썬에서 리스트, 딕셔너리, 집합 등을 간결하고 효율적으로 생성하는 방법이다.\n",
    "- 컴프리헨션을 사용하면 반복문과 조건문을 한 줄로 압축하여 표현할 수 있다.\n",
    "\n",
    "### 리스트 컴프리헨션(List Comprehension)\n",
    "- 리스트 컴프리헨션은 대괄호(`[]`) 안에 표현식과 `for` 문을 사용하여 리스트를 생성한다.\n",
    "- 필요에 따라 `if` 문을 추가하여 조건에 맞는 요소만 포함시킬 수 있다."
   ]
  },
  {
   "cell_type": "code",
   "execution_count": null,
   "metadata": {},
   "outputs": [],
   "source": [
    "squares = [x**2 for x in range(1, 6)]\n",
    "print(squares)  # [1, 4, 9, 16, 25]\n",
    "\n",
    "even_numbers = [x for x in range(1, 11) if x % 2 == 0]\n",
    "print(even_numbers)  # [2, 4, 6, 8, 10]"
   ]
  },
  {
   "cell_type": "markdown",
   "metadata": {},
   "source": [
    "### 딕셔너리 컴프리헨션(Dictionary Comprehension)\n",
    "- 딕셔너리 컴프리헨션은 중괄호(`{}`) 안에 키-값 쌍을 생성하는 표현식과 `for` 문을 사용한다.\n",
    "- 콜론(`:`)을 사용하여 키와 값을 구분하고, `for` 문을 통해 키-값 쌍을 생성한다."
   ]
  },
  {
   "cell_type": "code",
   "execution_count": null,
   "metadata": {},
   "outputs": [],
   "source": [
    "square_dict = {x: x**2 for x in range(1, 6)}\n",
    "print(square_dict)  # {1: 1, 2: 4, 3: 9, 4: 16, 5: 25}"
   ]
  },
  {
   "cell_type": "markdown",
   "metadata": {},
   "source": [
    "### 집합 컴프리헨션(Set Comprehension)\n",
    "- 집합 컴프리헨션은 중괄호(`{}`) 안에 표현식과 `for` 문을 사용하여 집합을 생성한다.\n",
    "- 리스트 컴프리헨션과 유사하지만, 중복된 값은 자동으로 제거된다."
   ]
  },
  {
   "cell_type": "code",
   "execution_count": null,
   "metadata": {},
   "outputs": [],
   "source": [
    "numbers = [1, 2, 2, 3, 3, 3, 4, 4, 4, 4]\n",
    "unique_numbers = {x for x in numbers}\n",
    "print(unique_numbers)  # {1, 2, 3, 4}"
   ]
  },
  {
   "cell_type": "markdown",
   "metadata": {},
   "source": [
    "### 컴프리헨션의 활용\n",
    "- 컴프리헨션은 코드를 간결하고 가독성 있게 작성할 수 있게 해준다.\n",
    "- 간단한 연산이나 필터링이 필요한 경우에 컴프리헨션을 사용하면 효과적이다."
   ]
  },
  {
   "cell_type": "code",
   "execution_count": null,
   "metadata": {},
   "outputs": [],
   "source": [
    "# 문자열의 길이를 반환하는 리스트 컴프리헨션\n",
    "words = [\"apple\", \"banana\", \"cherry\", \"date\"]\n",
    "word_lengths = [len(word) for word in words]\n",
    "print(word_lengths)  # [5, 6, 6, 4]\n",
    "\n",
    "# 튜플을 키-값 쌍으로 변환하는 딕셔너리 컴프리헨션\n",
    "pairs = [(1, \"one\"), (2, \"two\"), (3, \"three\")]\n",
    "number_dict = {key: value for key, value in pairs}\n",
    "print(number_dict)  # {1: 'one', 2: 'two', 3: 'three'}"
   ]
  },
  {
   "cell_type": "markdown",
   "metadata": {},
   "source": [
    "# 함수\n",
    "## 함수 정의와 호출\n",
    "- 함수는 특정 작업을 수행하는 코드 블록으로, 재사용 가능하고 모듈화된 코드를 작성할 수 있게 해준다.\n",
    "- `def` 키워드를 사용하여 함수를 정의하고, 함수 이름 뒤에 괄호 안에 매개변수를 선언한다.\n",
    "- 함수는 `return` 문을 사용하여 값을 반환할 수 있다.\n",
    "- 함수를 호출할 때는 함수 이름 뒤에 괄호를 붙이고, 필요한 인자를 전달한다."
   ]
  },
  {
   "cell_type": "code",
   "execution_count": null,
   "metadata": {},
   "outputs": [],
   "source": [
    "def add_numbers(a, b):\n",
    "   return a + b\n",
    "\n",
    "result = add_numbers(3, 5)\n",
    "print(result)  # 8\n"
   ]
  },
  {
   "cell_type": "markdown",
   "metadata": {},
   "source": [
    "### 매개변수와 인자\n",
    "- 매개변수(parameter)는 함수 정의에서 사용되는 변수로, 함수 내부에서 사용된다.\n",
    "- 인자(argument)는 함수를 호출할 때 전달하는 실제 값이다.\n",
    "- 매개변수는 위치 매개변수(positional parameter)와 기본값 매개변수(default parameter)로 구분된다.\n",
    "- 위치 매개변수는 함수 호출 시 인자의 위치에 따라 값이 할당되고, 기본값 매개변수는 인자가 전달되지 않을 경우 기본값을 사용한다."
   ]
  },
  {
   "cell_type": "code",
   "execution_count": null,
   "metadata": {},
   "outputs": [],
   "source": [
    "def greet(name, greeting=\"Hello\"):\n",
    "   return f\"{greeting}, {name}!\"\n",
    "\n",
    "print(greet(\"Alice\"))  # Hello, Alice!\n",
    "print(greet(\"Bob\", \"Hi\"))  # Hi, Bob!"
   ]
  },
  {
   "cell_type": "markdown",
   "metadata": {},
   "source": [
    "### 가변 인자와 키워드 인자\n",
    "- 가변 인자(*args)는 함수에 전달되는 인자의 개수가 가변적일 때 사용한다.\n",
    "- 가변 인자는 튜플 형태로 함수 내부에서 사용할 수 있다.\n",
    "- 키워드 인자(**kwargs)는 함수에 키워드 인자를 딕셔너리 형태로 전달할 때 사용한다."
   ]
  },
  {
   "cell_type": "markdown",
   "metadata": {},
   "source": [
    "## 매개변수와 인자, 반환값"
   ]
  },
  {
   "cell_type": "code",
   "execution_count": null,
   "metadata": {},
   "outputs": [],
   "source": [
    "def sum_numbers(*args):\n",
    "   return sum(args)\n",
    "\n",
    "print(sum_numbers(1, 2, 3))  # 6\n",
    "print(sum_numbers(1, 2, 3, 4, 5))  # 15\n",
    "\n",
    "def print_info(**kwargs):\n",
    "   for key, value in kwargs.items():\n",
    "       print(f\"{key}: {value}\")\n",
    "\n",
    "print_info(name=\"Alice\", age=25, city=\"New York\")"
   ]
  },
  {
   "cell_type": "markdown",
   "metadata": {},
   "source": [
    "### 함수의 활용\n",
    "- 함수는 코드의 재사용성을 높이고, 프로그램을 모듈화하는 데 도움을 준다.\n",
    "- 함수를 활용하여 코드를 작은 단위로 분할하고, 각 함수에 명확한 역할을 부여할 수 있다."
   ]
  },
  {
   "cell_type": "code",
   "execution_count": null,
   "metadata": {},
   "outputs": [],
   "source": [
    "def calculate_circle_area(radius):\n",
    "   return 3.14159 * radius ** 2\n",
    "\n",
    "def calculate_rectangle_area(width, height):\n",
    "   return width * height\n",
    "\n",
    "circle_radius = 5\n",
    "circle_area = calculate_circle_area(circle_radius)\n",
    "print(f\"원의 면적: {circle_area}\")\n",
    "\n",
    "rectangle_width = 3\n",
    "rectangle_height = 4\n",
    "rectangle_area = calculate_rectangle_area(rectangle_width, rectangle_height)\n",
    "print(f\"직사각형의 면적: {rectangle_area}\")"
   ]
  },
  {
   "cell_type": "markdown",
   "metadata": {},
   "source": [
    "## 람다 함수\n",
    "- 람다 함수(lambda function)는 작은 익명 함수를 정의할 때 사용되는 간편한 방법이다.\n",
    "- `lambda` 키워드를 사용하여 함수를 정의하고, 콜론(`:`) 뒤에 식을 작성한다.\n",
    "- 람다 함수는 `lambda` 매개변수: 식 형태로 작성된다."
   ]
  },
  {
   "cell_type": "code",
   "execution_count": null,
   "metadata": {},
   "outputs": [],
   "source": [
    "add = lambda x, y: x + y\n",
    "result = add(3, 5)\n",
    "print(result)  # 8"
   ]
  },
  {
   "cell_type": "markdown",
   "metadata": {},
   "source": [
    "### 람다 함수의 특징\n",
    "- 람다 함수는 이름이 없는 익명 함수이다.\n",
    "- 람다 함수는 간단한 식을 포함할 수 있으며, 여러 개의 매개변수를 가질 수 있다.\n",
    "- 람다 함수는 함수의 인자로 전달되거나 함수의 반환값으로 사용될 수 있다.\n",
    "- 람다 함수는 간단한 연산이나 함수를 정의할 때 유용하다."
   ]
  },
  {
   "cell_type": "code",
   "execution_count": null,
   "metadata": {},
   "outputs": [],
   "source": [
    "# 함수의 인자로 람다 함수 전달\n",
    "def apply_function(x, func):\n",
    "   return func(x)\n",
    "\n",
    "print(apply_function(5, lambda x: x * 2))  # 10\n",
    "print(apply_function(3, lambda x: x ** 3))  # 27"
   ]
  },
  {
   "cell_type": "markdown",
   "metadata": {},
   "source": [
    "### 람다 함수와 내장 함수\n",
    "- 람다 함수는 `map()`, `filter()`, `reduce()` 등의 내장 함수와 함께 자주 사용된다.\n",
    "- `map()`은 iterable의 각 요소에 함수를 적용하여 반환한다.\n",
    "- `filter()`는 iterable에서 특정 조건을 만족하는 요소만 추출하여 반환한다.\n",
    "- `reduce()`는 iterable의 요소를 누적적으로 함수에 적용하여 최종 결과를 반환한다."
   ]
  },
  {
   "cell_type": "code",
   "execution_count": null,
   "metadata": {},
   "outputs": [],
   "source": [
    "# map()과 람다 함수\n",
    "numbers = [1, 2, 3, 4, 5]\n",
    "squared = map(lambda x: x ** 2, numbers)\n",
    "print(list(squared))  # [1, 4, 9, 16, 25]\n",
    "\n",
    "# filter()와 람다 함수\n",
    "even_numbers = filter(lambda x: x % 2 == 0, numbers)\n",
    "print(list(even_numbers))  # [2, 4]\n",
    "\n",
    "# reduce()와 람다 함수\n",
    "from functools import reduce\n",
    "\n",
    "sum_of_numbers = reduce(lambda x, y: x + y, numbers)\n",
    "print(sum_of_numbers)  # 15"
   ]
  },
  {
   "cell_type": "markdown",
   "metadata": {},
   "source": [
    "### 람다 함수의 활용\n",
    "- 람다 함수는 간단한 함수를 정의하고 바로 사용할 때 유용하다.\n",
    "- 람다 함수는 코드의 가독성을 높이고, 함수의 매개변수로 전달할 때 간결하게 표현할 수 있다."
   ]
  },
  {
   "cell_type": "code",
   "execution_count": null,
   "metadata": {},
   "outputs": [],
   "source": [
    "# 리스트의 요소를 특정 조건으로 정렬\n",
    "students = [\n",
    "   {\"name\": \"Alice\", \"score\": 85},\n",
    "   {\"name\": \"Bob\", \"score\": 92},\n",
    "   {\"name\": \"Charlie\", \"score\": 78}\n",
    "]\n",
    "\n",
    "students.sort(key=lambda x: x[\"score\"])\n",
    "print(students)"
   ]
  },
  {
   "cell_type": "markdown",
   "metadata": {},
   "source": [
    "# 모듈과 패키지\n",
    "## 모듈 생성과 사용\n",
    "- 모듈은 함수, 변수, 클래스 등을 포함하는 파이썬 파일이다.\n",
    "- 모듈을 사용하면 코드를 분리하고 재사용할 수 있다.\n",
    "- 모듈을 생성하려면 `.py` 확장자를 가진 파일에 원하는 함수, 변수, 클래스 등을 정의한다.\n",
    "- 다른 파일에서 모듈을 사용하려면 `import` 문을 사용하여 모듈을 불러온다."
   ]
  },
  {
   "cell_type": "code",
   "execution_count": null,
   "metadata": {},
   "outputs": [],
   "source": [
    "# my_module.py\n",
    "def greeting(name):\n",
    "   return f\"Hello, {name}!\"\n",
    "\n",
    "def sum_numbers(a, b):\n",
    "   return a + b"
   ]
  },
  {
   "cell_type": "code",
   "execution_count": null,
   "metadata": {},
   "outputs": [],
   "source": [
    "# main.py\n",
    "import my_module\n",
    "\n",
    "print(my_module.greeting(\"Alice\"))  # Hello, Alice!\n",
    "print(my_module.sum_numbers(3, 5))  # 8"
   ]
  },
  {
   "cell_type": "markdown",
   "metadata": {},
   "source": [
    "### 모듈 별칭 사용\n",
    "- 모듈 이름이 길거나 중복되는 경우, `as` 키워드를 사용하여 모듈에 별칭을 지정할 수 있다."
   ]
  },
  {
   "cell_type": "code",
   "execution_count": null,
   "metadata": {},
   "outputs": [],
   "source": [
    "import my_module as mm\n",
    "\n",
    "print(mm.greeting(\"Bob\"))  # Hello, Bob!"
   ]
  },
  {
   "cell_type": "markdown",
   "metadata": {},
   "source": [
    "### 모듈에서 특정 항목만 가져오기\n",
    "- `from` 키워드를 사용하여 모듈에서 특정 함수, 변수, 클래스 등을 선택적으로 가져올 수 있다."
   ]
  },
  {
   "cell_type": "code",
   "execution_count": null,
   "metadata": {},
   "outputs": [],
   "source": [
    "from my_module import greeting\n",
    "\n",
    "print(greeting(\"Charlie\"))  # Hello, Charlie!"
   ]
  },
  {
   "cell_type": "markdown",
   "metadata": {},
   "source": [
    "## 패키지 구조\n",
    "- 패키지는 여러 모듈을 포함하는 디렉토리(폴더)이다.\n",
    "- 패키지를 사용하면 관련된 모듈을 그룹화하고 체계적으로 관리할 수 있다.\n",
    "- 패키지는 디렉토리 안에 `__init__.py` 파일을 포함해야 한다.\n",
    "- `__init__.py` 파일은 패키지를 초기화하는 데 사용되며, 패키지가 모듈처럼 동작하도록 한다."
   ]
  },
  {
   "cell_type": "code",
   "execution_count": null,
   "metadata": {},
   "outputs": [],
   "source": [
    "# 패키지 구조 예시\n",
    "\"\"\"\n",
    "my_package/\n",
    "   __init__.py\n",
    "   module1.py\n",
    "   module2.py\n",
    "\"\"\"\n",
    "\n",
    "# my_package/__init__.py\n",
    "# 패키지 초기화 파일\n",
    "\n",
    "# my_package/module1.py\n",
    "def func1():\n",
    "   return \"This is function 1\"\n",
    "\n",
    "# my_package/module2.py\n",
    "def func2():\n",
    "   return \"This is function 2\"\n",
    "\n",
    "# main.py\n",
    "from my_package import module1, module2\n",
    "\n",
    "print(module1.func1())  # This is function 1\n",
    "print(module2.func2())  # This is function 2"
   ]
  },
  {
   "cell_type": "markdown",
   "metadata": {},
   "source": [
    "### 패키지 내의 모듈 사용\n",
    "- 패키지 내의 모듈을 사용하려면 `패키지명.모듈명`으로 접근한다."
   ]
  },
  {
   "cell_type": "code",
   "execution_count": null,
   "metadata": {},
   "outputs": [],
   "source": [
    "import my_package.module1\n",
    "\n",
    "print(my_package.module1.func1())  # This is function 1"
   ]
  },
  {
   "cell_type": "markdown",
   "metadata": {},
   "source": [
    "### `__init__.py` 파일의 역할\n",
    "- `__init__.py` 파일은 패키지를 초기화하고, 패키지 내의 모듈들을 관리하는 역할을 한다.\n",
    "- `__init__.py` 파일에서 패키지 내의 모듈을 import하면, 사용자는 패키지만 import하여 모듈에 접근할 수 있다.\n"
   ]
  },
  {
   "cell_type": "code",
   "execution_count": null,
   "metadata": {},
   "outputs": [],
   "source": [
    "# my_package/__init__.py\n",
    "from . import module1, module2\n",
    "\n",
    "# main.py\n",
    "import my_package\n",
    "\n",
    "print(my_package.module1.func1())  # This is function 1\n",
    "print(my_package.module2.func2())  # This is function 2"
   ]
  },
  {
   "cell_type": "markdown",
   "metadata": {},
   "source": [
    "# 객체지향 프로그래밍(Object-Oriented Programming, OOP)\n",
    "- 객체지향 프로그래밍은 프로그램을 객체들의 모음으로 구성하는 방법론이다.\n",
    "- 객체는 데이터(속성)와 기능(메서드)을 포함하는 독립적인 단위이다.\n",
    "- 클래스는 객체를 생성하기 위한 템플릿 또는 청사진으로 작용한다.\n",
    "\n",
    "## 클래스(Class)\n",
    "- 클래스는 객체를 정의하는 틀 또는 설계도이다.\n",
    "- 클래스는 `class` 키워드를 사용하여 정의한다.\n",
    "- 클래스 내부에는 속성(attribute)과 메서드(method)가 정의된다."
   ]
  },
  {
   "cell_type": "code",
   "execution_count": null,
   "metadata": {},
   "outputs": [],
   "source": [
    "class Dog:\n",
    "   def __init__(self, name, age):\n",
    "       self.name = name\n",
    "       self.age = age\n",
    "\n",
    "   def bark(self):\n",
    "       return \"Woof!\"\n",
    "\n",
    "   def get_info(self):\n",
    "       return f\"{self.name} is {self.age} years old.\""
   ]
  },
  {
   "cell_type": "markdown",
   "metadata": {},
   "source": [
    "### 생성자(Constructor)\n",
    "- 생성자는 클래스의 인스턴스(객체)를 초기화하는 특별한 메서드이다.\n",
    "- 파이썬에서는 `__init__` 메서드를 생성자로 사용한다.\n",
    "- 생성자는 객체가 생성될 때 자동으로 호출되며, 객체의 초기 상태를 설정한다.\n",
    "\n",
    "### 인스턴스(Instance)\n",
    "- 인스턴스는 클래스를 기반으로 생성된 구체적인 객체이다.\n",
    "- 클래스는 객체를 생성하기 위한 설계도이고, 인스턴스는 그 설계도를 기반으로 실제로 생성된 객체이다.\n",
    "- 인스턴스는 각각 독립적인 속성 값을 가질 수 있다."
   ]
  },
  {
   "cell_type": "code",
   "execution_count": null,
   "metadata": {},
   "outputs": [],
   "source": [
    "my_dog = Dog(\"Buddy\", 3)\n",
    "print(my_dog.name)  # Buddy\n",
    "print(my_dog.age)  # 3\n",
    "print(my_dog.bark())  # Woof!\n",
    "print(my_dog.get_info())  # Buddy is 3 years old."
   ]
  },
  {
   "cell_type": "markdown",
   "metadata": {},
   "source": [
    "### 인스턴스 메서드(Instance Method)\n",
    "- 인스턴스 메서드는 클래스 내부에 정의된 함수로, 인스턴스를 통해 호출된다.\n",
    "- 인스턴스 메서드는 첫 번째 매개변수로 `self`를 받는다. `self`는 인스턴스 자기 자신을 참조한다.\n",
    "- 인스턴스 메서드 내에서 `self`를 사용하여 인스턴스의 속성과 다른 메서드에 접근할 수 있다.\n",
    "\n",
    "### 속성(Attribute)\n",
    "- 속성은 클래스나 인스턴스에 연결된 데이터이다.\n",
    "- 클래스 속성은 모든 인스턴스가 공유하는 데이터이고, 인스턴스 속성은 각 인스턴스마다 독립적인 데이터이다.\n",
    "- 인스턴스 속성은 `self`를 사용하여 접근하고, 클래스 속성은 클래스 이름을 사용하여 접근한다."
   ]
  },
  {
   "cell_type": "code",
   "execution_count": null,
   "metadata": {},
   "outputs": [],
   "source": [
    "class Cat:\n",
    "   species = \"Felis catus\"  # 클래스 속성\n",
    "\n",
    "   def __init__(self, name, color):\n",
    "       self.name = name  # 인스턴스 속성\n",
    "       self.color = color  # 인스턴스 속성\n",
    "\n",
    "my_cat = Cat(\"Whiskers\", \"white\")\n",
    "print(my_cat.name)  # Whiskers\n",
    "print(my_cat.color)  # white\n",
    "print(Cat.species)  # Felis catus"
   ]
  },
  {
   "cell_type": "markdown",
   "metadata": {},
   "source": [
    "### 상속(Inheritance)\n",
    "- 상속은 기존 클래스의 속성과 메서드를 새로운 클래스에서 재사용하고 확장하는 메커니즘이다.\n",
    "- 상속을 통해 코드의 재사용성을 높이고, 클래스 계층 구조를 만들 수 있다.\n",
    "- 파이썬에서는 클래스 정의 시 괄호 안에 부모 클래스의 이름을 지정하여 상속을 구현한다."
   ]
  },
  {
   "cell_type": "code",
   "execution_count": null,
   "metadata": {},
   "outputs": [],
   "source": [
    "class Animal:\n",
    "   def __init__(self, name):\n",
    "       self.name = name\n",
    "\n",
    "   def speak(self):\n",
    "       pass\n",
    "\n",
    "class Dog(Animal):\n",
    "   def speak(self):\n",
    "       return \"Woof!\"\n",
    "\n",
    "class Cat(Animal):\n",
    "   def speak(self):\n",
    "       return \"Meow!\"\n",
    "\n",
    "dog = Dog(\"Buddy\")\n",
    "cat = Cat(\"Whiskers\")\n",
    "\n",
    "print(dog.name)  # Buddy\n",
    "print(dog.speak())  # Woof!\n",
    "\n",
    "print(cat.name)  # Whiskers\n",
    "print(cat.speak())  # Meow!"
   ]
  },
  {
   "cell_type": "markdown",
   "metadata": {},
   "source": [
    "# 예외 처리(Exception Handling)\n",
    "- 예외 처리는 프로그램 실행 중에 발생할 수 있는 예외(오류)를 처리하는 방법이다.\n",
    "- 예외 처리를 사용하면 프로그램이 예외로 인해 비정상적으로 종료되는 것을 방지하고, 오류를 적절히 처리할 수 있다.\n",
    "- 파이썬에서는 `try`, `except`, `else`, `finally` 키워드를 사용하여 예외 처리를 수행한다.\n",
    "\n",
    "## try, except, else, finally 사용\n",
    "- `try` 블록은 예외가 발생할 가능성이 있는 코드를 포함한다.\n",
    "- `except` 블록은 `try` 블록에서 특정 예외가 발생했을 때 실행되는 코드를 포함한다.\n",
    "- `else` 블록은 `try` 블록에서 예외가 발생하지 않았을 때 실행되는 코드를 포함한다.\n",
    "- `finally` 블록은 예외 발생 여부와 상관없이 항상 실행되는 코드를 포함한다."
   ]
  },
  {
   "cell_type": "code",
   "execution_count": null,
   "metadata": {},
   "outputs": [],
   "source": [
    "try:\n",
    "   # 예외가 발생할 가능성이 있는 코드\n",
    "   result = 10 / 2\n",
    "   print(\"Division result:\", result)\n",
    "except ZeroDivisionError:\n",
    "   # ZeroDivisionError 예외가 발생했을 때 실행되는 코드\n",
    "   print(\"Cannot divide by zero!\")\n",
    "else:\n",
    "   # 예외가 발생하지 않았을 때 실행되는 코드\n",
    "   print(\"Division successful!\")\n",
    "finally:\n",
    "   # 예외 발생 여부와 상관없이 항상 실행되는 코드\n",
    "   print(\"This will execute no matter what.\")"
   ]
  },
  {
   "cell_type": "markdown",
   "metadata": {},
   "source": [
    "### 예외 객체(Exception Object)\n",
    "- 예외가 발생하면 해당 예외를 나타내는 예외 객체가 생성된다.\n",
    "- `except` 블록에서 예외 객체를 받아 예외 정보를 활용할 수 있다."
   ]
  },
  {
   "cell_type": "code",
   "execution_count": null,
   "metadata": {},
   "outputs": [],
   "source": [
    "try:\n",
    "   # 예외가 발생할 가능성이 있는 코드\n",
    "   x = int(input(\"Enter a number: \"))\n",
    "   result = 10 / x\n",
    "except ZeroDivisionError as e:\n",
    "   # ZeroDivisionError 예외 객체를 e로 받음\n",
    "   print(\"Error:\", e)\n",
    "except ValueError as e:\n",
    "   # ValueError 예외 객체를 e로 받음\n",
    "   print(\"Error:\", e)"
   ]
  },
  {
   "cell_type": "markdown",
   "metadata": {},
   "source": [
    "### 예외 발생시키기(Raising Exceptions)\n",
    "- `raise` 문을 사용하여 예외를 의도적으로 발생시킬 수 있다.\n",
    "- 사용자 정의 예외를 만들어 발생시킬 수도 있다.\n"
   ]
  },
  {
   "cell_type": "code",
   "execution_count": null,
   "metadata": {},
   "outputs": [],
   "source": [
    "def calculate_ratio(a, b):\n",
    "   if b == 0:\n",
    "       raise ValueError(\"Cannot divide by zero!\")\n",
    "   return a / b\n",
    "\n",
    "try:\n",
    "   result = calculate_ratio(10, 0)\n",
    "   print(\"Ratio:\", result)\n",
    "except ValueError as e:\n",
    "   print(\"Error:\", e)\n"
   ]
  },
  {
   "cell_type": "markdown",
   "metadata": {},
   "source": [
    "### 사용자 정의 예외(Custom Exceptions)\n",
    "- 사용자 정의 예외를 만들어 특정 상황에서 예외를 발생시킬 수 있다.\n",
    "- 사용자 정의 예외는 `Exception` 클래스를 상속받아 생성한다."
   ]
  },
  {
   "cell_type": "code",
   "execution_count": null,
   "metadata": {},
   "outputs": [],
   "source": [
    "class NegativeNumberError(Exception):\n",
    "   pass\n",
    "\n",
    "def square_root(n):\n",
    "   if n < 0:\n",
    "       raise NegativeNumberError(\"Cannot calculate square root of a negative number!\")\n",
    "   return n ** 0.5\n",
    "\n",
    "try:\n",
    "   result = square_root(-4)\n",
    "   print(\"Square root:\", result)\n",
    "except NegativeNumberError as e:\n",
    "   print(\"Error:\", e)"
   ]
  },
  {
   "cell_type": "markdown",
   "metadata": {},
   "source": [
    "# 파일 입출력(File I/O)\n",
    "- 파일 입출력은 파이썬에서 파일을 읽고 쓰는 작업을 수행하는 방법이다.\n",
    "- `open()` 함수를 사용하여 파일을 열고, `close()` 메서드를 사용하여 파일을 닫는다.\n",
    "- 파일을 열 때는 파일 경로와 모드(읽기, 쓰기, 추가 등)를 지정한다.\n",
    "\n",
    "## 파일 열기와 닫기\n",
    "- `open()` 함수를 사용하여 파일을 열고, 파일 객체를 반환한다.\n",
    "- 파일을 열 때는 파일 경로와 모드를 인자로 전달한다.\n",
    "- 파일을 다 사용한 후에는 `close()` 메서드를 호출하여 파일을 닫아야 한다."
   ]
  },
  {
   "cell_type": "code",
   "execution_count": null,
   "metadata": {},
   "outputs": [],
   "source": [
    "file_path = \"example.txt\"\n",
    "mode = \"r\"  # 읽기 모드\n",
    "\n",
    "file = open(file_path, mode)\n",
    "content = file.read()\n",
    "print(content)\n",
    "file.close()"
   ]
  },
  {
   "cell_type": "markdown",
   "metadata": {},
   "source": [
    "### with 문을 사용한 파일 열기와 닫기\n",
    "- `with` 문을 사용하면 파일을 자동으로 닫을 수 있다.\n",
    "- `with` 문 내에서 파일을 사용하고, 블록이 끝나면 자동으로 파일이 닫힌다."
   ]
  },
  {
   "cell_type": "code",
   "execution_count": null,
   "metadata": {},
   "outputs": [],
   "source": [
    "with open(file_path, mode) as file:\n",
    "   content = file.read()\n",
    "   print(content)"
   ]
  },
  {
   "cell_type": "markdown",
   "metadata": {},
   "source": [
    "## 파일 모드(File Modes)\n",
    "- 파일을 열 때는 파일 모드를 지정하여 파일에 대한 작업 종류를 결정한다.\n",
    "- 주요 파일 모드는 다음과 같다:\n",
    " - `\"r\"`: 읽기 모드 (파일을 읽기 위해 연다. 파일이 존재해야 한다.)\n",
    " - `\"w\"`: 쓰기 모드 (파일에 쓰기 위해 연다. 파일이 존재하지 않으면 생성하고, 존재하면 내용을 덮어쓴다.)\n",
    " - `\"a\"`: 추가 모드 (파일에 내용을 추가하기 위해 연다. 파일이 존재하지 않으면 생성한다.)\n",
    " - `\"x\"`: 배타적 생성 모드 (파일을 쓰기 위해 연다. 파일이 이미 존재하면 실패한다.)\n",
    "\n",
    "## 파일 읽기(Reading Files)\n",
    "- 파일 객체의 `read()`, `readline()`, `readlines()` 메서드를 사용하여 파일 내용을 읽을 수 있다.\n",
    "- `read()`: 파일의 전체 내용을 문자열로 읽는다.\n",
    "- `readline()`: 파일에서 한 줄씩 읽는다.\n",
    "- `readlines()`: 파일의 모든 줄을 읽어 리스트로 반환한다."
   ]
  },
  {
   "cell_type": "code",
   "execution_count": null,
   "metadata": {},
   "outputs": [],
   "source": [
    "with open(file_path, \"r\") as file:\n",
    "   content = file.read()\n",
    "   print(content)\n",
    "\n",
    "with open(file_path, \"r\") as file:\n",
    "   line = file.readline()\n",
    "   while line:\n",
    "       print(line.strip())\n",
    "       line = file.readline()\n",
    "\n",
    "with open(file_path, \"r\") as file:\n",
    "   lines = file.readlines()\n",
    "   for line in lines:\n",
    "       print(line.strip())"
   ]
  },
  {
   "cell_type": "markdown",
   "metadata": {},
   "source": [
    "## 파일 쓰기(Writing Files)\n",
    "- 파일 객체의 `write()`, `writelines()` 메서드를 사용하여 파일에 내용을 쓸 수 있다.\n",
    "- `write()`: 문자열을 파일에 쓴다.\n",
    "- `writelines()`: 문자열 리스트를 파일에 쓴다."
   ]
  },
  {
   "cell_type": "code",
   "execution_count": null,
   "metadata": {},
   "outputs": [],
   "source": [
    "with open(file_path, \"w\") as file:\n",
    "   file.write(\"Hello, World!\\n\")\n",
    "   file.write(\"This is a new line.\")\n",
    "\n",
    "lines = [\"Line 1\\n\", \"Line 2\\n\", \"Line 3\\n\"]\n",
    "with open(file_path, \"w\") as file:\n",
    "   file.writelines(lines)\n"
   ]
  },
  {
   "cell_type": "markdown",
   "metadata": {},
   "source": [
    "## 파일 내용 추가(Appending to Files)\n",
    "- 파일 모드를 `\"a\"`로 지정하여 파일에 내용을 추가할 수 있다.\n",
    "- `write()` 또는 `writelines()` 메서드를 사용하여 내용을 추가한다."
   ]
  },
  {
   "cell_type": "code",
   "execution_count": null,
   "metadata": {},
   "outputs": [],
   "source": [
    "with open(file_path, \"a\") as file:\n",
    "   file.write(\"This is an appended line.\\n\")"
   ]
  },
  {
   "cell_type": "markdown",
   "metadata": {},
   "source": [
    "## 파일 위치 조정(File Positioning)\n",
    "- 파일 객체의 `seek()` 메서드를 사용하여 파일 내에서 읽기/쓰기 위치를 조정할 수 있다.\n",
    "- `tell()` 메서드를 사용하여 현재 파일 위치를 확인할 수 있다."
   ]
  },
  {
   "cell_type": "code",
   "execution_count": null,
   "metadata": {},
   "outputs": [],
   "source": [
    "with open(file_path, \"r\") as file:\n",
    "   file.seek(10)  # 파일 위치를 10번째 바이트로 이동\n",
    "   content = file.read()  # 10번째 바이트부터 파일 내용 읽기\n",
    "   print(content)\n",
    "\n",
    "   position = file.tell()  # 현재 파일 위치 확인\n",
    "   print(\"Current position:\", position)"
   ]
  },
  {
   "cell_type": "markdown",
   "metadata": {},
   "source": [
    "## 파이썬 라이브러리 생태계\n",
    "\n",
    "- 파이썬은 다양한 라이브러리들로 이루어진 풍부한 생태계를 가지고 있다.\n",
    "- 이러한 라이브러리들 덕분에 파이썬은 웹 개발, 데이터 분석, 인공지능, 게임 개발 등 다양한 분야에서 사용될 수 있다.\n",
    "- 파이썬 라이브러리들은 대부분 오픈소스로 개발되어 무료로 사용할 수 있으며, 전 세계 개발자들이 협력하여 지속적으로 발전하고 있다.\n",
    "\n",
    "### 파이썬 라이브러리 종류\n",
    "\n",
    "1. 표준 라이브러리\n",
    "  - 파이썬에 기본적으로 내장되어 있는 라이브러리\n",
    "  - 예: `math`, `random`, `os`, `datetime` 등\n",
    "\n",
    "2. 외부 라이브러리\n",
    "  - 파이썬 사용자들이 개발하여 공유하는 라이브러리\n",
    "  - 특정 분야나 용도에 특화된 기능을 제공\n",
    "  - 예: `numpy`, `pandas`, `matplotlib`, `requests`, `beautifulsoup` 등\n",
    "\n",
    "3. 프레임워크\n",
    "  - 웹 개발, 게임 개발 등 특정 분야에서 사용되는 라이브러리의 집합\n",
    "  - 프레임워크를 사용하면 일관된 코딩 스타일과 구조를 유지할 수 있음\n",
    "  - 예: `Django`, `Flask`, `Pygame` 등\n",
    "\n",
    "### 파이썬 패키지 관리자 (pip)\n",
    "\n",
    "- 파이썬의 외부 라이브러리를 설치하고 관리하는 도구\n",
    "- 터미널 또는 명령 프롬프트에서 `pip` 명령을 사용하여 라이브러리를 설치할 수 있음\n",
    "- 예: `pip install numpy`\n",
    "\n",
    "### 가상 환경 (Virtual Environment)\n",
    "\n",
    "- 프로젝트마다 독립된 파이썬 환경을 만들어주는 도구\n",
    "- 서로 다른 프로젝트에서 라이브러리 버전 충돌을 방지할 수 있음\n",
    "- 예: `venv`, `conda` 등\n",
    "- 파이썬의 다양한 라이브러리들은 개발자들이 더욱 쉽고 빠르게 원하는 프로그램을 만들 수 있도록 도와준다. \n",
    "- 파이썬 라이브러리 생태계를 잘 활용한다면 효율적이고 협력적인 개발이 가능할 것이다.\n"
   ]
  },
  {
   "cell_type": "markdown",
   "metadata": {},
   "source": [
    "## faker 라이브러리를 활용한 외부라이브러리 예제\n",
    "\n",
    "- `faker`는 가상의 데이터를 생성해주는 외부 라이브러리이다.\n",
    "- 테스트용 데이터를 만들거나, 데이터 분석 연습을 할 때 실제와 유사한 가상의 데이터를 만들어주어 유용하게 사용할 수 있다.\n",
    "- `faker` 라이브러리를 사용하여 가상의 사람 이름과 이메일 주소를 생성해보자\n",
    "\n",
    "\n",
    "```bash\n",
    "pip install faker\n",
    "```"
   ]
  },
  {
   "cell_type": "code",
   "execution_count": null,
   "metadata": {},
   "outputs": [],
   "source": [
    "from faker import Faker\n",
    "\n",
    "# Faker 객체 생성\n",
    "fake = Faker()\n",
    "\n",
    "# 가상의 사람 이름 생성\n",
    "name = fake.name()\n",
    "print(\"가상의 사람 이름:\", name)\n",
    "\n",
    "# 가상의 이메일 주소 생성\n",
    "email = fake.email()\n",
    "print(\"가상의 이메일 주소:\", email)"
   ]
  },
  {
   "cell_type": "markdown",
   "metadata": {},
   "source": [
    "## 파이썬 생태계 및 외부라이브러리 활용법 \n",
    "\n",
    "- 새로운 외부 라이브러리를 사용할 때는 해당 라이브러리의 문서를 읽는 것이 매우 중요하다.\n",
    "- 문서에는 라이브러리의 설치 방법, 주요 기능, 사용 예제 등이 자세히 설명되어 있다.\n",
    "- 라이브러리 문서를 잘 읽으면 해당 라이브러리를 효과적으로 사용할 수 있고, 발생할 수 있는 오류를 줄일 수 있다.\n",
    "\n",
    "### 파이썬 라이브러리 문서 읽는 순서\n",
    "\n",
    "1. 라이브러리 설치 방법 확인\n",
    "  - 문서의 Installation 또는 Getting Started 부분을 찾아 라이브러리 설치 방법을 확인한다.\n",
    "  - 주로 `pip install` 명령을 사용하여 설치한다.\n",
    "\n",
    "2. 주요 기능과 모듈 구조 파악\n",
    "  - 문서의 Overview 또는 Introduction 부분을 읽어 라이브러리의 주요 기능과 모듈 구조를 파악한다.\n",
    "  - 라이브러리가 어떤 문제를 해결하는지, 어떤 모듈과 클래스로 구성되어 있는지 이해한다.\n",
    "\n",
    "3. 사용 예제 따라해보기\n",
    "  - 문서의 Examples 또는 Tutorials 부분에 있는 사용 예제를 따라해본다.\n",
    "  - 예제 코드를 직접 실행해보면서 라이브러리의 사용 방법을 익힌다.\n",
    "\n",
    "4. API 레퍼런스 활용하기\n",
    "  - 문서의 API Reference 또는 Documentation 부분을 활용하여 라이브러리의 세부 기능을 확인한다.\n",
    "  - 모듈, 클래스, 함수 등의 사용 방법과 매개변수 설명을 참고하여 필요한 기능을 사용한다.\n",
    "\n",
    "### 파이썬 라이브러리 문서 예시 (requests 라이브러리)\n",
    "\n",
    "- requests 라이브러리 공식 문서: https://requests.readthedocs.io/en/latest/\n",
    "\n",
    "1. 설치 방법\n",
    "  - `pip install requests`\n",
    "\n",
    "2. 주요 기능\n",
    "  - HTTP 요청을 보내고 응답을 받는 기능 제공\n",
    "  - GET, POST, PUT, DELETE 등의 HTTP 메서드 지원\n",
    "  - 쿠키, 세션, 인증 등의 기능 지원\n"
   ]
  },
  {
   "cell_type": "code",
   "execution_count": null,
   "metadata": {},
   "outputs": [],
   "source": [
    "  import requests\n",
    "\n",
    "  response = requests.get('https://api.example.com/data')\n",
    "  data = response.json()\n",
    "  print(data)"
   ]
  },
  {
   "cell_type": "markdown",
   "metadata": {},
   "source": [
    "## PYPI란?\n",
    "\n",
    "- PYPI는 Python Package Index의 약자로, 파이썬 패키지(라이브러리)들이 모여있는 중앙 저장소이다.\n",
    "- 파이썬 개발자들은 자신이 만든 패키지를 PYPI에 업로드하여 다른 개발자들과 공유할 수 있다.\n",
    "- 우리가 `pip install` 명령을 사용하여 외부 라이브러리를 설치할 때, 실제로는 PYPI에서 해당 라이브러리를 다운로드하여 설치하는 것이다.\n",
    "\n",
    "### PYPI 활용 예시\n",
    "\n",
    "1. 패키지 검색\n",
    "  - PYPI 웹사이트(https://pypi.org/)에서 원하는 패키지를 검색할 수 있다.\n",
    "  - 검색 결과에서 패키지의 정보, 문서, 업데이트 내역 등을 확인할 수 있다.\n",
    "\n",
    "2. 패키지 설치\n",
    "  - PYPI에 등록된 패키지는 `pip` 명령을 사용하여 쉽게 설치할 수 있다.\n",
    "  - 예: `pip install requests`\n",
    "\n",
    "3. 패키지 업로드\n",
    "  - 파이썬 개발자는 자신이 만든 패키지를 PYPI에 업로드하여 공유할 수 있다.\n",
    "\n",
    "### PYPI의 장점\n",
    "\n",
    "- 파이썬 개발자들이 서로의 패키지를 공유하고 활용할 수 있다.\n",
    "- 패키지의 버전 관리와 업데이트가 용이하다.\n",
    "- `pip` 명령을 사용하여 손쉽게 패키지를 설치할 수 있다.\n",
    "- 개발자들이 중복 작업을 줄이고, 더 효율적으로 개발할 수 있다."
   ]
  },
  {
   "cell_type": "markdown",
   "metadata": {},
   "source": [
    "\n",
    "# ====================================================================================================================================================================================\n",
    "# 고급 개념 (Advanced Concepts)\n",
    "# ===================================================================================================================================================================================="
   ]
  },
  {
   "cell_type": "markdown",
   "metadata": {},
   "source": [
    "# 이터레이터(Iterator)와 제너레이터(Generator)\n",
    "- 이터레이터와 제너레이터는 파이썬에서 데이터를 순차적으로 접근하고 생성하는 객체이다.\n",
    "- 이터레이터는 `next()` 함수를 사용하여 요소를 차례대로 반환하고, 제너레이터는 `yield` 문을 사용하여 값을 생성한다.\n",
    "\n",
    "## 이터레이터(Iterator)\n",
    "- 이터레이터는 `next()` 함수를 사용하여 요소를 차례대로 반환하는 객체이다.\n",
    "- `iter()` 함수를 사용하여 이터러블 객체(리스트, 튜플, 문자열 등)를 이터레이터로 변환할 수 있다.\n",
    "- `next()` 함수를 호출할 때마다 이터레이터의 다음 요소를 반환하고, 더 이상 요소가 없으면 `StopIteration` 예외를 발생시킨다.\n"
   ]
  },
  {
   "cell_type": "code",
   "execution_count": null,
   "metadata": {},
   "outputs": [],
   "source": [
    "my_list = [1, 2, 3, 4, 5]\n",
    "my_iterator = iter(my_list)\n",
    "\n",
    "print(next(my_iterator))  # 출력: 1\n",
    "print(next(my_iterator))  # 출력: 2\n",
    "print(next(my_iterator))  # 출력: 3\n",
    "\n",
    "for item in my_iterator:\n",
    "   print(item)  # 출력: 4, 5"
   ]
  },
  {
   "cell_type": "markdown",
   "metadata": {},
   "source": [
    "### 사용자 정의 이터레이터\n",
    "- 사용자 정의 이터레이터를 만들려면 `__iter__()`와 `__next__()` 메서드를 구현해야 한다.\n",
    "- `__iter__()` 메서드는 이터레이터 객체를 반환하고, `__next__()` 메서드는 다음 요소를 반환한다."
   ]
  },
  {
   "cell_type": "code",
   "execution_count": null,
   "metadata": {},
   "outputs": [],
   "source": [
    "class MyIterator:\n",
    "   def __init__(self, data):\n",
    "       self.data = data\n",
    "       self.index = 0\n",
    "\n",
    "   def __iter__(self):\n",
    "       return self\n",
    "\n",
    "   def __next__(self):\n",
    "       if self.index >= len(self.data):\n",
    "           raise StopIteration\n",
    "       value = self.data[self.index]\n",
    "       self.index += 1\n",
    "       return value\n",
    "\n",
    "my_data = [1, 2, 3, 4, 5]\n",
    "my_iterator = MyIterator(my_data)\n",
    "\n",
    "for item in my_iterator:\n",
    "   print(item)  # 출력: 1, 2, 3, 4, 5"
   ]
  },
  {
   "cell_type": "markdown",
   "metadata": {},
   "source": [
    "## 제너레이터(Generator)\n",
    "- 제너레이터는 이터레이터를 생성하는 간단한 방법을 제공하는 함수이다.\n",
    "- 제너레이터 함수는 `yield` 문을 사용하여 값을 생성하고, 호출될 때마다 다음 값을 반환한다.\n",
    "- `next()` 함수를 사용하여 제너레이터의 다음 값을 얻을 수 있다."
   ]
  },
  {
   "cell_type": "code",
   "execution_count": null,
   "metadata": {},
   "outputs": [],
   "source": [
    "def my_generator(n):\n",
    "   for i in range(n):\n",
    "       yield i\n",
    "\n",
    "gen = my_generator(5)\n",
    "\n",
    "print(next(gen))  # 출력: 0\n",
    "print(next(gen))  # 출력: 1\n",
    "print(next(gen))  # 출력: 2\n",
    "\n",
    "for item in gen:\n",
    "   print(item)  # 출력: 3, 4"
   ]
  },
  {
   "cell_type": "markdown",
   "metadata": {},
   "source": [
    "### 제너레이터 표현식(Generator Expression)\n",
    "- 제너레이터 표현식은 리스트 컴프리헨션과 유사하지만, 괄호 `()`를 사용하여 제너레이터를 생성한다.\n",
    "- 제너레이터 표현식은 메모리를 효율적으로 사용할 수 있다.\n"
   ]
  },
  {
   "cell_type": "code",
   "execution_count": null,
   "metadata": {},
   "outputs": [],
   "source": [
    "square_generator = (x ** 2 for x in range(5))\n",
    "\n",
    "for item in square_generator:\n",
    "   print(item)  # 출력: 0, 1, 4, 9, 16"
   ]
  },
  {
   "cell_type": "markdown",
   "metadata": {},
   "source": [
    "## 이터레이터와 제너레이터의 장점\n",
    "- 이터레이터와 제너레이터는 데이터를 순차적으로 접근할 수 있게 해준다.\n",
    "- 큰 데이터 세트를 처리할 때 메모리를 효율적으로 사용할 수 있다.\n",
    "- 무한한 시퀀스를 생성하고 처리할 수 있다.\n",
    "- 코드의 가독성과 유지보수성을 높일 수 있다."
   ]
  },
  {
   "cell_type": "code",
   "execution_count": null,
   "metadata": {},
   "outputs": [],
   "source": [
    "# 피보나치 수열 제너레이터\n",
    "def fibonacci():\n",
    "   a, b = 0, 1\n",
    "   while True:\n",
    "       yield a\n",
    "       a, b = b, a + b\n",
    "\n",
    "fib = fibonacci()\n",
    "\n",
    "for _ in range(10):\n",
    "   print(next(fib))  # 출력: 0, 1, 1, 2, 3, 5, 8, 13, 21, 34"
   ]
  },
  {
   "cell_type": "markdown",
   "metadata": {},
   "source": [
    "## 데코레이터(Decorator)와 컨텍스트 관리자(Context Manager)\n",
    "- 데코레이터와 컨텍스트 관리자는 파이썬에서 코드의 재사용성과 가독성을 높이는 도구이다.\n",
    "- 데코레이터는 함수를 수정하지 않고 기능을 추가하거나 수정할 수 있게 해주고, 컨텍스트 관리자는 리소스의 획득과 해제를 자동화할 수 있게 해준다.\n",
    "\n",
    "### 데코레이터(Decorator)\n",
    "- 데코레이터는 함수를 감싸는 다른 함수를 정의하여 기존 함수의 동작을 수정하거나 확장하는 방법이다.\n",
    "- 데코레이터는 `@` 기호를 사용하여 함수 위에 적용한다.\n",
    "- 데코레이터 함수는 감싸는 함수를 인자로 받아 내부에서 필요한 작업을 수행하고, 감싸는 함수를 호출한 후 결과를 반환한다."
   ]
  },
  {
   "cell_type": "code",
   "execution_count": null,
   "metadata": {},
   "outputs": [],
   "source": [
    "def my_decorator(func):\n",
    "   def wrapper():\n",
    "       print(\"Something is happening before the function is called.\")\n",
    "       func()\n",
    "       print(\"Something is happening after the function is called.\")\n",
    "   return wrapper\n",
    "\n",
    "@my_decorator\n",
    "def say_hello():\n",
    "   print(\"Hello!\")\n",
    "\n",
    "say_hello()"
   ]
  },
  {
   "cell_type": "markdown",
   "metadata": {},
   "source": [
    "### 매개변수와 반환값이 있는 데코레이터\n",
    "- 데코레이터 함수는 감싸는 함수의 매개변수를 전달받아 사용할 수 있다.\n",
    "- 데코레이터 함수의 반환값을 수정하여 감싸는 함수의 반환값을 변경할 수도 있다."
   ]
  },
  {
   "cell_type": "code",
   "execution_count": null,
   "metadata": {},
   "outputs": [],
   "source": [
    "def uppercase_decorator(func):\n",
    "   def wrapper(text):\n",
    "       result = func(text)\n",
    "       return result.upper()\n",
    "   return wrapper\n",
    "\n",
    "@uppercase_decorator\n",
    "def greet(name):\n",
    "   return f\"Hello, {name}!\"\n",
    "\n",
    "print(greet(\"Alice\"))  "
   ]
  },
  {
   "cell_type": "markdown",
   "metadata": {},
   "source": [
    "### 여러 개의 데코레이터 적용\n",
    "- 하나의 함수에 여러 개의 데코레이터를 적용할 수 있다.\n",
    "- 데코레이터는 함수에 가까운 것부터 순서대로 적용된다.\n"
   ]
  },
  {
   "cell_type": "code",
   "execution_count": null,
   "metadata": {},
   "outputs": [],
   "source": [
    "def bold_decorator(func):\n",
    "   def wrapper(text):\n",
    "       return f\"<b>{func(text)}</b>\"\n",
    "   return wrapper\n",
    "\n",
    "def italic_decorator(func):\n",
    "   def wrapper(text):\n",
    "       return f\"<i>{func(text)}</i>\"\n",
    "   return wrapper\n",
    "\n",
    "@bold_decorator\n",
    "@italic_decorator\n",
    "def greet(name):\n",
    "   return f\"Hello, {name}!\"\n",
    "\n",
    "print(greet(\"Alice\")) "
   ]
  },
  {
   "cell_type": "markdown",
   "metadata": {},
   "source": [
    "### 컨텍스트 관리자(Context Manager)\n",
    "- 컨텍스트 관리자는 `with` 문과 함께 사용되어 리소스의 획득과 해제를 자동화하는 객체이다.\n",
    "- 컨텍스트 관리자는 `__enter__()`와 `__exit__()` 메서드를 구현하여 정의한다.\n",
    "- `__enter__()` 메서드는 `with` 블록에 진입할 때 호출되고, 필요한 설정을 수행하고 사용할 객체를 반환한다.\n",
    "- `__exit__()` 메서드는 `with` 블록에서 벗어날 때 호출되고, 리소스를 정리하고 예외 처리를 수행한다."
   ]
  },
  {
   "cell_type": "code",
   "execution_count": null,
   "metadata": {},
   "outputs": [],
   "source": [
    "class ManagedFile:\n",
    "   def __init__(self, filename):\n",
    "       self.filename = filename\n",
    "       \n",
    "   def __enter__(self):\n",
    "       self.file = open(self.filename, 'r')\n",
    "       return self.file\n",
    "   \n",
    "   def __exit__(self, exc_type, exc_val, exc_tb):\n",
    "       if self.file:\n",
    "           self.file.close()\n",
    "\n",
    "with ManagedFile('example.txt') as file:\n",
    "   content = file.read()\n",
    "   print(content)"
   ]
  },
  {
   "cell_type": "markdown",
   "metadata": {},
   "source": [
    "### contextlib 모듈을 사용한 컨텍스트 관리자 구현\n",
    "- `contextlib` 모듈의 `contextmanager` 데코레이터를 사용하여 간단하게 컨텍스트 관리자를 구현할 수 있다.\n",
    "- `yield` 문을 사용하여 `with` 블록에 진입할 때와 벗어날 때의 동작을 구분한다."
   ]
  },
  {
   "cell_type": "code",
   "execution_count": null,
   "metadata": {},
   "outputs": [],
   "source": [
    "from contextlib import contextmanager\n",
    "\n",
    "@contextmanager\n",
    "def managed_file(filename):\n",
    "   try:\n",
    "       file = open(filename, 'r')\n",
    "       yield file\n",
    "   finally:\n",
    "       file.close()\n",
    "\n",
    "with managed_file('example.txt') as file:\n",
    "   content = file.read()\n",
    "   print(content)"
   ]
  },
  {
   "cell_type": "markdown",
   "metadata": {},
   "source": [
    "### 데코레이터와 컨텍스트 관리자의 활용\n",
    "- 데코레이터는 코드의 재사용성을 높이고, 함수의 동작을 수정하거나 로깅, 인증 등의 기능을 추가할 때 유용하다.\n",
    "- 컨텍스트 관리자는 파일, 데이터베이스 연결, 락 등의 리소스를 안전하게 관리하고, 코드의 가독성을 높일 때 사용된다."
   ]
  },
  {
   "cell_type": "code",
   "execution_count": null,
   "metadata": {},
   "outputs": [],
   "source": [
    "# 실행 시간 측정 데코레이터\n",
    "import time\n",
    "\n",
    "def timer_decorator(func):\n",
    "   def wrapper(*args, **kwargs):\n",
    "       start_time = time.time()\n",
    "       result = func(*args, **kwargs)\n",
    "       end_time = time.time()\n",
    "       print(f\"Execution time: {end_time - start_time:.5f} seconds\")\n",
    "       return result\n",
    "   return wrapper\n",
    "\n",
    "@timer_decorator\n",
    "def my_function():\n",
    "   time.sleep(1)\n",
    "\n",
    "my_function()  # 출력: Execution time: 1.00101 seconds\n",
    "\n",
    "# 데이터베이스 연결 컨텍스트 관리자\n",
    "import sqlite3\n",
    "\n",
    "@contextmanager\n",
    "def database_connection(db_file):\n",
    "   try:\n",
    "       conn = sqlite3.connect(db_file)\n",
    "       yield conn\n",
    "   finally:\n",
    "       conn.close()\n",
    "\n",
    "with database_connection('example.db') as conn:\n",
    "   cursor = conn.cursor()\n",
    "   cursor.execute('SELECT * FROM users')\n",
    "   rows = cursor.fetchall()\n",
    "   for row in rows:\n",
    "       print(row)"
   ]
  },
  {
   "cell_type": "markdown",
   "metadata": {},
   "source": [
    "## 클로저(Closure) 사용\n",
    "- 클로저는 함수가 정의된 환경을 유지하고, 해당 환경에 접근할 수 있는 함수를 말한다.\n",
    "- 내부 함수가 외부 함수의 변수에 접근할 수 있고, 외부 함수가 종료되어도 내부 함수가 외부 함수의 변수를 기억하는 것이 클로저의 핵심이다.\n"
   ]
  },
  {
   "cell_type": "code",
   "execution_count": null,
   "metadata": {},
   "outputs": [],
   "source": [
    "def outer_func(x):\n",
    "   def inner_func(y):\n",
    "       return x + y\n",
    "   return inner_func\n",
    "\n",
    "my_func = outer_func(5)\n",
    "print(my_func(3))  # 출력: 8"
   ]
  },
  {
   "cell_type": "markdown",
   "metadata": {},
   "source": [
    "\n",
    "### 클로저의 동작 원리\n",
    "- `outer_func` 함수는 `inner_func` 함수를 정의하고 반환한다.\n",
    "- `inner_func` 함수는 `outer_func` 함수의 매개변수 `x`에 접근할 수 있다.\n",
    "- `my_func` 변수에 `outer_func(5)`를 할당하면, `outer_func` 함수가 호출되고 `inner_func` 함수가 반환된다.\n",
    "- 이때 `inner_func` 함수는 `x`의 값이 5로 고정된 상태로 반환되며, `my_func` 변수에 할당된다.\n",
    "- `my_func(3)`을 호출하면, `inner_func` 함수가 실행되고 `x`의 값 5와 `y`의 값 3이 더해져 8이 반환된다."
   ]
  },
  {
   "cell_type": "markdown",
   "metadata": {},
   "source": [
    "### 클로저의 활용\n",
    "- 클로저는 함수의 상태를 유지하면서 동작을 사용자화할 수 있게 해준다.\n",
    "- 클로저를 사용하여 함수의 동작을 동적으로 생성하고 제어할 수 있다."
   ]
  },
  {
   "cell_type": "code",
   "execution_count": null,
   "metadata": {},
   "outputs": [],
   "source": [
    "def multiplier_factory(n):\n",
    "   def multiplier(x):\n",
    "       return n * x\n",
    "   return multiplier\n",
    "\n",
    "double = multiplier_factory(2)\n",
    "triple = multiplier_factory(3)\n",
    "\n",
    "print(double(5))  # 출력: 10\n",
    "print(triple(5))  # 출력: 15"
   ]
  },
  {
   "cell_type": "markdown",
   "metadata": {},
   "source": [
    "### 클로저와 데코레이터의 관계\n",
    "- 클로저는 데코레이터를 구현하는 데 핵심적인 역할을 한다.\n",
    "- 데코레이터는 함수를 인자로 받아 내부 함수를 정의하고, 내부 함수에서 인자로 받은 함수를 호출하고 반환하는 구조로 이루어진다.\n",
    "- 이때 내부 함수는 외부 함수의 변수에 접근할 수 있는 클로저로 동작한다."
   ]
  },
  {
   "cell_type": "code",
   "execution_count": null,
   "metadata": {},
   "outputs": [],
   "source": [
    "def decorator_factory(n):\n",
    "   def decorator(func):\n",
    "       def wrapper(*args, **kwargs):\n",
    "           result = func(*args, **kwargs)\n",
    "           return result * n\n",
    "       return wrapper\n",
    "   return decorator\n",
    "\n",
    "@decorator_factory(2)\n",
    "def multiply(x, y):\n",
    "   return x * y\n",
    "\n",
    "print(multiply(3, 4))  # 출력: 24"
   ]
  },
  {
   "cell_type": "markdown",
   "metadata": {},
   "source": [
    "### 클로저의 주의사항\n",
    "- 클로저는 외부 함수의 변수를 참조하므로, 외부 함수가 종료되어도 해당 변수가 메모리에 유지된다.\n",
    "- 따라서 클로저를 사용할 때는 메모리 누수가 발생하지 않도록 주의해야 한다.\n",
    "- 클로저가 참조하는 변수를 수정할 때는 `nonlocal` 키워드를 사용하여 명시적으로 알려주어야 한다.\n"
   ]
  },
  {
   "cell_type": "code",
   "execution_count": null,
   "metadata": {},
   "outputs": [],
   "source": [
    "def counter():\n",
    "   count = 0\n",
    "   def increment():\n",
    "       nonlocal count\n",
    "       count += 1\n",
    "       return count\n",
    "   return increment\n",
    "\n",
    "my_counter = counter()\n",
    "print(my_counter())  # 출력: 1\n",
    "print(my_counter())  # 출력: 2\n",
    "print(my_counter())  # 출력: 3"
   ]
  },
  {
   "cell_type": "markdown",
   "metadata": {},
   "source": [
    "## 멀티스레딩(Multithreading)\n",
    "- 멀티스레딩은 하나의 프로세스 내에서 여러 개의 스레드를 동시에 실행하는 것을 말한다.\n",
    "- 스레드는 프로세스 내에서 실행되는 독립적인 실행 단위이며, 각 스레드는 별도의 스택을 가지고 있다.\n",
    "- 파이썬에서는 `threading` 모듈을 사용하여 멀티스레딩을 구현할 수 있다.\n",
    "\n",
    "### 스레드 생성 및 실행\n",
    "- `threading.Thread` 클래스를 사용하여 새로운 스레드를 생성할 수 있다.\n",
    "- `target` 매개변수에 스레드가 실행할 함수를 지정하고, `start()` 메서드를 호출하여 스레드를 시작한다."
   ]
  },
  {
   "cell_type": "code",
   "execution_count": null,
   "metadata": {},
   "outputs": [],
   "source": [
    "import threading\n",
    "import time\n",
    "\n",
    "def worker(thread_id):\n",
    "   print(f\"Thread {thread_id} started.\")\n",
    "   time.sleep(2)\n",
    "   print(f\"Thread {thread_id} finished.\")\n",
    "\n",
    "threads = []\n",
    "for i in range(3):\n",
    "   thread = threading.Thread(target=worker, args=(i,))\n",
    "   threads.append(thread)\n",
    "   thread.start()\n",
    "\n",
    "for thread in threads:\n",
    "   thread.join()\n",
    "\n",
    "print(\"All threads finished.\")"
   ]
  },
  {
   "cell_type": "markdown",
   "metadata": {},
   "source": [
    "### 스레드 동기화\n",
    "- 여러 스레드가 공유 자원에 동시에 접근할 때는 동기화 메커니즘이 필요하다.\n",
    "- `threading.Lock` 클래스를 사용하여 스레드 간의 동기화를 구현할 수 있다.\n",
    "- `lock.acquire()`를 호출하여 락을 획득하고, `lock.release()`를 호출하여 락을 해제한다."
   ]
  },
  {
   "cell_type": "code",
   "execution_count": null,
   "metadata": {},
   "outputs": [],
   "source": [
    "import threading\n",
    "\n",
    "counter = 0\n",
    "lock = threading.Lock()\n",
    "\n",
    "def increment():\n",
    "   global counter\n",
    "   lock.acquire()\n",
    "   try:\n",
    "       for _ in range(100000):\n",
    "           counter += 1\n",
    "   finally:\n",
    "       lock.release()\n",
    "\n",
    "threads = []\n",
    "for _ in range(5):\n",
    "   thread = threading.Thread(target=increment)\n",
    "   threads.append(thread)\n",
    "   thread.start()\n",
    "\n",
    "for thread in threads:\n",
    "   thread.join()\n",
    "\n",
    "print(f\"Final counter value: {counter}\")"
   ]
  },
  {
   "cell_type": "markdown",
   "metadata": {},
   "source": [
    "### 스레드 간 통신\n",
    "- 스레드 간에 데이터를 공유하고 통신하기 위해 `threading.Event`와 `threading.Queue`를 사용할 수 있다.\n",
    "- `threading.Event`는 이벤트 객체로, 스레드 간에 신호를 전달하고 동기화하는 데 사용된다.\n",
    "- `threading.Queue`는 스레드 안전한 큐로, 스레드 간에 데이터를 안전하게 교환하는 데 사용된다."
   ]
  },
  {
   "cell_type": "code",
   "execution_count": null,
   "metadata": {},
   "outputs": [],
   "source": [
    "import threading\n",
    "import queue\n",
    "\n",
    "def producer(queue):\n",
    "   for i in range(5):\n",
    "       queue.put(i)\n",
    "       print(f\"Produced: {i}\")\n",
    "\n",
    "def consumer(queue):\n",
    "   while True:\n",
    "       item = queue.get()\n",
    "       print(f\"Consumed: {item}\")\n",
    "       queue.task_done()\n",
    "\n",
    "q = queue.Queue()\n",
    "\n",
    "producer_thread = threading.Thread(target=producer, args=(q,))\n",
    "consumer_thread = threading.Thread(target=consumer, args=(q,))\n",
    "\n",
    "producer_thread.start()\n",
    "consumer_thread.start()\n",
    "\n",
    "q.join()"
   ]
  },
  {
   "cell_type": "markdown",
   "metadata": {},
   "source": [
    "### 멀티스레딩의 고려사항\n",
    "- 멀티스레딩은 병렬 처리를 통해 성능을 향상시킬 수 있지만, 동기화 이슈와 복잡성을 고려해야 한다.\n",
    "- 파이썬에서는 GIL(Global Interpreter Lock)로 인해 실제로는 한 번에 하나의 스레드만 실행될 수 있다.\n",
    "- CPU 바운드 작업보다는 I/O 바운드 작업에서 멀티스레딩의 효과가 더 크게 나타난다.\n",
    "- 스레드 간의 통신과 동기화에 주의를 기울여야 하며, 교착 상태(deadlock)와 경쟁 상태(race condition)를 방지해야 한다.\n",
    "\n",
    "### concurrent.futures 모듈\n",
    "- `concurrent.futures` 모듈은 병렬 처리를 위한 high-level 인터페이스를 제공한다.\n",
    "- `ThreadPoolExecutor`를 사용하여 스레드 풀을 생성하고, 작업을 병렬로 실행할 수 있다."
   ]
  },
  {
   "cell_type": "code",
   "execution_count": null,
   "metadata": {},
   "outputs": [],
   "source": [
    "import concurrent.futures\n",
    "import time\n",
    "\n",
    "def task(n):\n",
    "   time.sleep(1)\n",
    "   return n * n\n",
    "\n",
    "with concurrent.futures.ThreadPoolExecutor(max_workers=5) as executor:\n",
    "   futures = [executor.submit(task, i) for i in range(10)]\n",
    "   results = [future.result() for future in concurrent.futures.as_completed(futures)]\n",
    "\n",
    "print(results)"
   ]
  },
  {
   "cell_type": "markdown",
   "metadata": {},
   "source": [
    "## 정규 표현식(Regular Expression)\n",
    "- 정규 표현식은 문자열에서 특정 패턴을 검색, 추출, 변경하는 데 사용되는 문자열 패턴을 정의하는 형식 언어이다.\n",
    "- 파이썬에서는 `re` 모듈을 사용하여 정규 표현식을 다룰 수 있다."
   ]
  },
  {
   "cell_type": "code",
   "execution_count": 32,
   "metadata": {},
   "outputs": [
    {
     "name": "stdout",
     "output_type": "stream",
     "text": [
      "Match found: Hello\n"
     ]
    }
   ],
   "source": [
    "import re\n",
    "\n",
    "pattern = r\"^\\w+\"\n",
    "string = \"Hello World\"\n",
    "\n",
    "match = re.search(pattern, string)\n",
    "if match:\n",
    "   print(\"Match found:\", match.group())  # 출력: Match found: Hello"
   ]
  },
  {
   "cell_type": "markdown",
   "metadata": {},
   "source": [
    "### 정규 표현식 패턴\n",
    "- 정규 표현식 패턴은 메타 문자와 리터럴 문자로 구성된다.\n",
    "- 메타 문자는 특별한 의미를 가지는 문자로, 패턴을 정의하는 데 사용된다.\n",
    "- 주요 메타 문자는 다음과 같다:\n",
    " - `.`: 임의의 한 문자와 매치\n",
    " - `^`: 문자열의 시작과 매치\n",
    " - `$`: 문자열의 끝과 매치\n",
    " - `*`: 앞의 문자가 0번 이상 반복되는 것과 매치\n",
    " - `+`: 앞의 문자가 1번 이상 반복되는 것과 매치\n",
    " - `?`: 앞의 문자가 0번 또는 1번 나타나는 것과 매치\n",
    " - `{m,n}`: 앞의 문자가 m번에서 n번 반복되는 것과 매치\n",
    " - `[...]`: 대괄호 내의 문자 중 하나와 매치\n",
    " - `[^...]`: 대괄호 내의 문자를 제외한 문자와 매치\n",
    " - `|`: 왼쪽 또는 오른쪽 패턴 중 하나와 매치\n",
    " - `(...)`: 그룹화된 패턴을 캡처하여 반환\n",
    " - `\\\\`: 메타 문자를 이스케이프하여 리터럴로 사용\n",
    "\n",
    "### re 모듈 함수\n",
    "- `re` 모듈은 정규 표현식을 다루기 위한 다양한 함수를 제공한다.\n",
    "- `re.search(pattern, string)`: 문자열에서 패턴과 매치되는 첫 번째 위치를 찾아 매치 객체를 반환\n",
    "- `re.match(pattern, string)`: 문자열의 시작 부분에서 패턴과 매치되는지 확인하고 매치 객체를 반환\n",
    "- `re.findall(pattern, string)`: 문자열에서 패턴과 매치되는 모든 부분을 리스트로 반환\n",
    "- `re.sub(pattern, repl, string)`: 문자열에서 패턴과 매치되는 부분을 대체 문자열로 교체한 결과를 반환\n",
    "- `re.split(pattern, string)`: 문자열을 패턴을 기준으로 분할한 결과를 리스트로 반환\n",
    "\n",
    "### 정규 표현식 예제\n",
    "- 이메일 주소 패턴 매칭:\n",
    " - `^[a-zA-Z0-9._%+-]+@[a-zA-Z0-9.-]+\\\\.[a-zA-Z]{2,}$`"
   ]
  },
  {
   "cell_type": "markdown",
   "metadata": {},
   "source": [
    "### 정규 표현식 예제\n",
    "- 이메일 주소 패턴 매칭:\n",
    " - `^[a-zA-Z0-9._%+-]+@[a-zA-Z0-9.-]+\\\\.[a-zA-Z]{2,}$`"
   ]
  },
  {
   "cell_type": "code",
   "execution_count": null,
   "metadata": {},
   "outputs": [],
   "source": [
    "import re\n",
    "\n",
    "email_pattern = r\"^[a-zA-Z0-9._%+-]+@[a-zA-Z0-9.-]+\\.[a-zA-Z]{2,}$\"\n",
    "email1 = \"example@example.com\"\n",
    "email2 = \"invalid.email\"\n",
    "\n",
    "if re.match(email_pattern, email1):\n",
    "   print(\"Valid email:\", email1)\n",
    "else:\n",
    "   print(\"Invalid email:\", email1)\n",
    "\n",
    "if re.match(email_pattern, email2):\n",
    "   print(\"Valid email:\", email2)\n",
    "else:\n",
    "   print(\"Invalid email:\", email2)"
   ]
  },
  {
   "cell_type": "markdown",
   "metadata": {},
   "source": [
    "- 전화번호 패턴 매칭:\n",
    " - `^\\\\d{3}-\\\\d{3,4}-\\\\d{4}$`"
   ]
  },
  {
   "cell_type": "code",
   "execution_count": null,
   "metadata": {},
   "outputs": [],
   "source": [
    "import re\n",
    "\n",
    "phone_pattern = r\"^\\d{3}-\\d{3,4}-\\d{4}$\"\n",
    "phone1 = \"010-1234-5678\"\n",
    "phone2 = \"123-456-7890\"\n",
    "\n",
    "if re.match(phone_pattern, phone1):\n",
    "   print(\"Valid phone number:\", phone1)\n",
    "else:\n",
    "   print(\"Invalid phone number:\", phone1)\n",
    "\n",
    "if re.match(phone_pattern, phone2):\n",
    "   print(\"Valid phone number:\", phone2)\n",
    "else:\n",
    "   print(\"Invalid phone number:\", phone2)"
   ]
  },
  {
   "cell_type": "markdown",
   "metadata": {},
   "source": [
    "- HTML 태그 제거:\n",
    " - `<[^>]*>`"
   ]
  },
  {
   "cell_type": "code",
   "execution_count": null,
   "metadata": {},
   "outputs": [],
   "source": [
    "import re\n",
    "\n",
    "html_pattern = r\"<[^>]*>\"\n",
    "html_string = \"<p>Hello, <b>World</b>!</p>\"\n",
    "\n",
    "clean_string = re.sub(html_pattern, \"\", html_string)\n",
    "print(\"Cleaned string:\", clean_string)"
   ]
  },
  {
   "cell_type": "markdown",
   "metadata": {},
   "source": [
    "### 정규 표현식의 활용\n",
    "- 정규 표현식은 문자열 처리, 데이터 검증, 텍스트 파싱 등 다양한 분야에서 활용된다.\n",
    "- 로그 파일 분석, 웹 스크래핑, 자연어 처리 등에서 정규 표현식을 사용하여 원하는 패턴의 데이터를 추출하거나 변환할 수 있다.\n",
    "- 정규 표현식을 효과적으로 사용하려면 패턴 작성과 메타 문자의 의미를 잘 이해해야 한다.\n",
    "- 복잡한 정규 표현식은 가독성이 떨어질 수 있으므로, 주석을 달거나 설명을 추가하는 것이 좋다.\n",
    "- 정규 표현식은 강력하지만 과도하게 사용하면 코드의 복잡성이 증가할 수 있으므로, 적절한 수준에서 사용하는 것이 중요하다."
   ]
  },
  {
   "cell_type": "markdown",
   "metadata": {},
   "source": [
    "## 애너테이션과 타입 힌트\n",
    "- 애너테이션(Annotation)은 파이썬 코드에 메타데이터를 추가하는 방법이다.\n",
    "- 타입 힌트(Type Hint)는 함수의 매개변수와 반환 값의 타입을 명시하는 데 사용되는 일종의 애너테이션이다.\n",
    "- 타입 힌트는 코드의 가독성을 높이고, 문서화를 개선하며, 정적 타입 검사 도구를 활용할 수 있게 해준다.\n",
    "- 파이썬은 동적 타입 언어이므로 타입 힌트는 선택 사항이며, 실제 런타임에는 영향을 미치지 않는다."
   ]
  },
  {
   "cell_type": "code",
   "execution_count": null,
   "metadata": {},
   "outputs": [],
   "source": [
    "from typing import List, Dict, Tuple\n",
    "\n",
    "def greet(name: str) -> str:\n",
    "   return f\"Hello, {name}\"\n",
    "\n",
    "def process_items(items: List[str]) -> None:\n",
    "   for item in items:\n",
    "       print(item)\n",
    "\n",
    "def return_tuple() -> Tuple[int, int, int]:\n",
    "   return (1, 2, 3)\n",
    "\n",
    "def map_values(mapping: Dict[str, int]) -> List[int]:\n",
    "   return list(mapping.values())\n",
    "\n",
    "print(greet(\"Alice\"))  # 출력: Hello, Alice"
   ]
  },
  {
   "cell_type": "markdown",
   "metadata": {},
   "source": [
    "### 타입 힌트 사용 방법\n",
    "- 함수의 매개변수와 반환 값에 콜론(`:`) 뒤에 타입을 명시한다.\n",
    "- `->` 기호를 사용하여 함수의 반환 타입을 명시한다.\n",
    "- 일반적인 타입 외에도 `List`, `Dict`, `Tuple`, `Set`, `Optional` 등의 제네릭 타입을 사용할 수 있다.\n",
    "- `Union` 타입을 사용하여 여러 타입 중 하나임을 명시할 수 있다.\n",
    "- `Any` 타입을 사용하여 모든 타입을 허용할 수 있다."
   ]
  },
  {
   "cell_type": "code",
   "execution_count": null,
   "metadata": {},
   "outputs": [],
   "source": [
    "from typing import Union, Optional\n",
    "\n",
    "def add(a: Union[int, float], b: Union[int, float]) -> Union[int, float]:\n",
    "   return a + b\n",
    "\n",
    "def get_item(lst: List[int], index: int) -> Optional[int]:\n",
    "   if 0 <= index < len(lst):\n",
    "       return lst[index]\n",
    "   else:\n",
    "       return None\n"
   ]
  },
  {
   "cell_type": "markdown",
   "metadata": {},
   "source": [
    "### 타입 별칭(Type Alias)\n",
    "- 복잡한 타입 표기를 간단한 별칭으로 정의하여 사용할 수 있다.\n",
    "- `typing` 모듈의 `TypeVar`를 사용하여 제네릭 타입의 별칭을 정의할 수 있다."
   ]
  },
  {
   "cell_type": "code",
   "execution_count": null,
   "metadata": {},
   "outputs": [],
   "source": [
    "from typing import List, TypeVar\n",
    "\n",
    "Point = Tuple[int, int]\n",
    "Coordinate = Tuple[float, float, float]\n",
    "\n",
    "T = TypeVar('T')\n",
    "Vector = List[T]\n",
    "\n",
    "def distance(p1: Point, p2: Point) -> float:\n",
    "   x1, y1 = p1\n",
    "   x2, y2 = p2\n",
    "   return ((x2 - x1) ** 2 + (y2 - y1) ** 2) ** 0.5"
   ]
  },
  {
   "cell_type": "markdown",
   "metadata": {},
   "source": [
    "### 타입 검사(Type Checking)\n",
    "- 타입 힌트는 정적 타입 검사 도구를 통해 코드의 타입 오류를 미리 발견할 수 있게 해준다.\n",
    "- `mypy`와 같은 정적 타입 검사 도구를 사용하여 타입 힌트를 기반으로 코드를 검사할 수 있다.\n",
    "- 타입 검사는 개발 과정에서 잠재적인 오류를 조기에 발견하고 코드의 안정성을 높이는 데 도움이 된다.\n"
   ]
  },
  {
   "cell_type": "code",
   "execution_count": null,
   "metadata": {},
   "outputs": [],
   "source": [
    "# mypy를 사용한 타입 검사 예제\n",
    "def add(a: int, b: int) -> int:\n",
    "   return a + b\n",
    "\n",
    "result = add(3, 4)  # 정상\n",
    "result = add(3, \"4\")  # 타입 에러 발생"
   ]
  },
  {
   "cell_type": "markdown",
   "metadata": {},
   "source": [
    "### 타입 힌트의 장점\n",
    "- 코드의 가독성과 이해도를 높일 수 있다.\n",
    "- 함수의 인터페이스를 명확히 정의할 수 있다.\n",
    "- IDE나 편집기에서 자동 완성 및 타입 정보를 제공할 수 있다.\n",
    "- 정적 타입 검사를 통해 잠재적인 버그를 조기에 발견할 수 있다.\n",
    "- 유지보수와 리팩토링을 용이하게 만든다.\n",
    "\n",
    "### 타입 힌트의 한계\n",
    "- 파이썬은 동적 타입 언어이므로 타입 힌트는 실제 런타임에 영향을 미치지 않는다.\n",
    "- 타입 힌트를 과도하게 사용하면 코드의 가독성이 떨어질 수 있다.\n",
    "- 복잡한 타입 표현은 코드의 복잡성을 증가시킬 수 있다.\n",
    "- 모든 라이브러리나 프레임워크에서 타입 힌트를 지원하지는 않는다.\n",
    "\n",
    "### 타입 힌트의 활용\n",
    "- 타입 힌트는 코드의 품질과 유지보수성을 높이는 데 도움이 되지만, 과도한 사용은 오히려 코드의 복잡성을 증가시킬 수 있다.\n",
    "- 프로젝트의 규모와 복잡성, 팀의 합의에 따라 타입 힌트의 사용 수준을 결정하는 것이 좋다.\n",
    "- 주요 함수와 인터페이스, 공개 API 등에 타입 힌트를 적용하는 것이 효과적이다.\n",
    "- 점진적으로 타입 힌트를 도입하고, 필요에 따라 확장해 나가는 것이 바람직하다."
   ]
  }
 ],
 "metadata": {
  "kernelspec": {
   "display_name": "Python 3",
   "language": "python",
   "name": "python3"
  },
  "language_info": {
   "codemirror_mode": {
    "name": "ipython",
    "version": 3
   },
   "file_extension": ".py",
   "mimetype": "text/x-python",
   "name": "python",
   "nbconvert_exporter": "python",
   "pygments_lexer": "ipython3",
   "version": "3.12.2"
  }
 },
 "nbformat": 4,
 "nbformat_minor": 2
}
