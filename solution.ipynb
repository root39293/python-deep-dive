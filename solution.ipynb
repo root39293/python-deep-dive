{
 "cells": [
  {
   "cell_type": "markdown",
   "metadata": {},
   "source": [
    "# 실전문제"
   ]
  },
  {
   "cell_type": "code",
   "execution_count": null,
   "metadata": {},
   "outputs": [],
   "source": [
    "# 1. 사용자로부터 두 개의 숫자를 입력받아 그 합을 구하는 프로그램을 작성하세요.\n",
    "\"\"\"\n",
    "    입력 예시 1:\n",
    "    10\n",
    "    20\n",
    "    출력 예시 1:\n",
    "    30\n",
    "    입력 예시 2:\n",
    "    -5\n",
    "    8\n",
    "    출력 예시 2:\n",
    "    3\n",
    "    힌트:\n",
    "\n",
    "    input() 함수를 사용하여 사용자로부터 숫자를 입력받습니다.\n",
    "    입력받은 숫자는 문자열 형태이므로 int() 함수를 사용하여 정수형으로 변환합니다.\n",
    "    두 숫자를 더한 결과를 print() 함수를 사용하여 출력합니다.\n",
    "\"\"\"\n",
    "\n",
    "a = int(input())\n",
    "b = int(input())\n",
    "\n",
    "result = a+b\n",
    "print(result)"
   ]
  },
  {
   "cell_type": "code",
   "execution_count": null,
   "metadata": {},
   "outputs": [],
   "source": [
    "# 2. 투자 원금과 연간 수익률을 입력받아 5년 후 예상 총액을 계산하는 프로그램을 작성하세요.\n",
    "\"\"\"\n",
    "    입력 예시 1:\n",
    "    투자 원금을 입력하세요: 1000000\n",
    "    연간 수익률(%)을 입력하세요: 10\n",
    "\n",
    "    출력 예시 1:\n",
    "    5년 후 예상 총액: 1610510\n",
    "\n",
    "    입력 예시 2:\n",
    "    투자 원금을 입력하세요: 500000\n",
    "    연간 수익률(%)을 입력하세요: 5\n",
    "\n",
    "    출력 예시 2:\n",
    "    5년 후 예상 총액: 638140\n",
    "\n",
    "    힌트:\n",
    "    투자 원금과 수익률은 사용자로부터 입력받습니다.\n",
    "    수익률은 소수점 형태로 입력받으므로 float 타입으로 변환해야 합니다.\n",
    "    매년 투자 원금에 수익률을 적용하여 총액을 계산합니다.\n",
    "    반복문을 사용하여 5년 동안의 총액을 계산할 수 있습니다.\n",
    "\n",
    "\"\"\"\n",
    "\n",
    "i = int(input(\"투자 원금을 입력하세요: \"))\n",
    "k = float(input(\"연간 수익률(%)을 입력하세요: \"))\n",
    "\n",
    "for _ in range(5):\n",
    "    i *= 1 + k/100\n",
    "\n",
    "print(f\"5년 후 예상 총액: {int(i)}\")"
   ]
  },
  {
   "cell_type": "code",
   "execution_count": null,
   "metadata": {},
   "outputs": [],
   "source": [
    "# 3. 리스트 컴프리헨션 기능을 사용하여 1부터 50까지의 숫자 중 3의 배수만을 포함하는 리스트를 생성하세요.\n",
    "\n",
    "\"\"\"\n",
    "    출력 예시:\n",
    "    [3, 6, 9, 12, 15, 18, 21, 24, 27, 30, 33, 36, 39, 42, 45, 48]\n",
    "\n",
    "    힌트:\n",
    "    리스트 컴프리헨션을 사용하여 간단하게 리스트를 생성할 수 있습니다.\n",
    "    range(1, 51) 함수를 사용하여 1부터 50까지의 숫자를 생성합니다.\n",
    "    조건식 x % 3 == 0을 사용하여 3의 배수인 숫자만 선택합니다.\n",
    "\"\"\"\n",
    "\n",
    "li = [ x for x in range(1,51) if x % 3 == 0 ]\n",
    "print(li)"
   ]
  },
  {
   "cell_type": "code",
   "execution_count": null,
   "metadata": {},
   "outputs": [],
   "source": [
    "# 4. 사용자로부터 단어를 입력받아 그 단어가 회문인지 검사하는 프로그램을 작성하세요. (회문은 앞뒤로 읽어도 동일한 단어)\n",
    "\"\"\"\n",
    "    입력 예시 1:\n",
    "    level\n",
    "\n",
    "    출력 예시 1:\n",
    "    True\n",
    "\n",
    "    입력 예시 2:\n",
    "    hello\n",
    "\n",
    "    출력 예시 2:\n",
    "    False\n",
    "\n",
    "    입력 예시 3:\n",
    "    noon\n",
    "\n",
    "    출력 예시 3:\n",
    "    True\n",
    "\n",
    "    힌트:\n",
    "    [::-1]를 사용하면 문자열을 역순으로 슬라이싱할 수 있습니다.\n",
    "    즉, 전체 요소[:]를 -1씩 (역방향으로) 슬라이싱하여 뒤집힌 문자열을 얻을 수 있습니다.\n",
    "\"\"\"\n",
    "\n",
    "word = input()\n",
    "\n",
    "if word[::-1] == word:\n",
    "    print(\"True\")"
   ]
  },
  {
   "cell_type": "code",
   "execution_count": null,
   "metadata": {},
   "outputs": [],
   "source": [
    "# 5. 주어진 문자열에서 각 문자의 등장 횟수를 출력하는 파이썬 프로그램을 작성하세요. \n",
    "\n",
    "\"\"\"\n",
    "    입력 예시:\n",
    "    \"aabbccddee\"\n",
    "    \n",
    "    출력 예시:\n",
    "    a 2\n",
    "    b 2\n",
    "    c 2\n",
    "    d 2\n",
    "    e 2\n",
    "\n",
    "    힌트:\n",
    "    각 문자의 등장 횟수를 세기 위해 dictionary를 활용할 수 있습니다.\n",
    "    string.count() 함수를 활용해 문자의 등장 횟수를 구할 수 있습니다.\n",
    "\n",
    "    dictionary의 items() 함수를 사용하여 키-값 쌍을 얻은 후, \n",
    "    sorted() 함수를 사용하여 키(문자)를 기준으로 정렬할 수 있습니다.\n",
    "\"\"\"\n",
    "\n",
    "input_string = input()\n",
    "char_count = {char: input_string.count(char) for char in input_string}\n",
    "sorted_items = char_count.items()\n",
    "result = sorted(sorted_items)\n",
    "\n",
    "for char, count in result:\n",
    "    print(f\"{char} {count}\")"
   ]
  },
  {
   "cell_type": "code",
   "execution_count": 34,
   "metadata": {},
   "outputs": [
    {
     "name": "stdout",
     "output_type": "stream",
     "text": [
      "315\n"
     ]
    }
   ],
   "source": [
    "# 5. 1부터 100까지의 자연수 중에서 3의 배수이면서 동시에 5의 배수인 수들의 합을 구하는 프로그램을 작성하세요.\n",
    "\n",
    "\"\"\"\n",
    "    출력 예시:\n",
    "    315\n",
    "\"\"\"\n",
    "\n",
    "res=0\n",
    "for i in range(1,101):\n",
    "    if i % 15 ==0:\n",
    "        res += i\n",
    "\n",
    "print(res)\n"
   ]
  }
 ],
 "metadata": {
  "kernelspec": {
   "display_name": "Python 3",
   "language": "python",
   "name": "python3"
  },
  "language_info": {
   "codemirror_mode": {
    "name": "ipython",
    "version": 3
   },
   "file_extension": ".py",
   "mimetype": "text/x-python",
   "name": "python",
   "nbconvert_exporter": "python",
   "pygments_lexer": "ipython3",
   "version": "3.12.2"
  }
 },
 "nbformat": 4,
 "nbformat_minor": 2
}
